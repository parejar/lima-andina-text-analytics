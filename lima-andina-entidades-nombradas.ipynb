{
 "cells": [
  {
   "cell_type": "markdown",
   "id": "55529697",
   "metadata": {},
   "source": [
    "### Configuración"
   ]
  },
  {
   "cell_type": "code",
   "execution_count": 35,
   "id": "26f425a9",
   "metadata": {},
   "outputs": [
    {
     "name": "stdout",
     "output_type": "stream",
     "text": [
      "You are working on a local system.\n",
      "Files will be searched relative to \"..\".\n"
     ]
    }
   ],
   "source": [
    "import sys, os\n",
    "ON_COLAB = 'google.colab' in sys.modules\n",
    "\n",
    "if ON_COLAB:\n",
    "    GIT_ROOT = 'https://github.com/blueprints-for-text-analytics-python/blueprints-text/raw/master'\n",
    "    os.system(f'wget {GIT_ROOT}/ch04/setup.py')\n",
    "\n",
    "%run -i setup.py"
   ]
  },
  {
   "cell_type": "code",
   "execution_count": 36,
   "id": "1651fbd9",
   "metadata": {},
   "outputs": [],
   "source": [
    "import pandas as pd\n",
    "\n",
    "%run \"settings.py\"\n",
    "\n",
    "%reload_ext autoreload\n",
    "%autoreload 2\n",
    "%config InlineBackend.figure_format = 'png'\n",
    "\n",
    "# to print output of all statements and not just the last\n",
    "from IPython.core.interactiveshell import InteractiveShell\n",
    "InteractiveShell.ast_node_interactivity = \"all\"\n",
    "\n",
    "# otherwise text between $ signs will be interpreted as formula and printed in italic\n",
    "pd.set_option('display.html.use_mathjax', False)\n",
    "\n",
    "# path to import blueprints packages\n",
    "# sys.path.append(BASE_DIR + '/packages')"
   ]
  },
  {
   "cell_type": "code",
   "execution_count": 37,
   "id": "0b59b62e",
   "metadata": {},
   "outputs": [
    {
     "data": {
      "text/html": [
       "<div>\n",
       "<style scoped>\n",
       "    .dataframe tbody tr th:only-of-type {\n",
       "        vertical-align: middle;\n",
       "    }\n",
       "\n",
       "    .dataframe tbody tr th {\n",
       "        vertical-align: top;\n",
       "    }\n",
       "\n",
       "    .dataframe thead th {\n",
       "        text-align: right;\n",
       "    }\n",
       "</style>\n",
       "<table border=\"1\" class=\"dataframe tex2jax_ignore\">\n",
       "  <thead>\n",
       "    <tr style=\"text-align: right;\">\n",
       "      <th></th>\n",
       "      <th>Id</th>\n",
       "      <th>Sección de El Comercio</th>\n",
       "      <th>El Comercio Section</th>\n",
       "      <th>Página</th>\n",
       "      <th>Number</th>\n",
       "      <th>Fecha</th>\n",
       "      <th>(PDF)</th>\n",
       "      <th>Edición</th>\n",
       "      <th>Palabras Clave</th>\n",
       "      <th>Source Id</th>\n",
       "      <th>Id_Asoc</th>\n",
       "      <th>Asociación</th>\n",
       "      <th>Titulo Original</th>\n",
       "      <th>Texto</th>\n",
       "      <th>Unnamed: 14</th>\n",
       "      <th>Seccion de El Comercio</th>\n",
       "    </tr>\n",
       "  </thead>\n",
       "  <tbody>\n",
       "    <tr>\n",
       "      <th>322</th>\n",
       "      <td>323</td>\n",
       "      <td>Sociedades é Instituciones</td>\n",
       "      <td>4</td>\n",
       "      <td>5</td>\n",
       "      <td>36563</td>\n",
       "      <td>1917/6/2</td>\n",
       "      <td>33</td>\n",
       "      <td>Tarde</td>\n",
       "      <td>Citación, asamblea general</td>\n",
       "      <td>1.00</td>\n",
       "      <td>22</td>\n",
       "      <td>Centro Chupaca</td>\n",
       "      <td>CENTRO CHUPACA</td>\n",
       "      <td>CENTRO CHUPACA - Los socios de esta institución están citados a sesión para hoy sábado 2 de junio a las 8 p.m. en su local, calle Chacarilla número 459.</td>\n",
       "      <td>NaN</td>\n",
       "      <td>NaN</td>\n",
       "    </tr>\n",
       "    <tr>\n",
       "      <th>5300</th>\n",
       "      <td>5301</td>\n",
       "      <td>Sociedades é Instituciones</td>\n",
       "      <td>4</td>\n",
       "      <td>12</td>\n",
       "      <td>45343</td>\n",
       "      <td>1930/11/27</td>\n",
       "      <td>49</td>\n",
       "      <td>Tarde</td>\n",
       "      <td>Junta general, citación</td>\n",
       "      <td>1.00</td>\n",
       "      <td>173</td>\n",
       "      <td>Centro Social Progresista Hijos de Julcamarca</td>\n",
       "      <td>=TRIM(LEFT(N5302,FIND(\" -\",N5302)))</td>\n",
       "      <td>CENTRO JULCAMARCA - Cita a sus asociados a la sesión de junta extraordinaria que se realizará hoy jueves 27 a las 8 p.m. en la calle de Quilca número 250, interior 27 altos.</td>\n",
       "      <td>NaN</td>\n",
       "      <td>NaN</td>\n",
       "    </tr>\n",
       "  </tbody>\n",
       "</table>\n",
       "</div>"
      ],
      "text/plain": [
       "        Id      Sección de El Comercio El Comercio Section Página  Number   \\\n",
       "322    323  Sociedades é Instituciones                   4      5    36563   \n",
       "5300  5301  Sociedades é Instituciones                   4     12    45343   \n",
       "\n",
       "           Fecha  (PDF) Edición               Palabras Clave  Source Id  \\\n",
       "322     1917/6/2     33   Tarde  Citación, asamblea general        1.00   \n",
       "5300  1930/11/27     49   Tarde      Junta general, citación       1.00   \n",
       "\n",
       "      Id_Asoc                                      Asociación  \\\n",
       "322        22                                  Centro Chupaca   \n",
       "5300      173  Centro Social Progresista Hijos de Julcamarca    \n",
       "\n",
       "                          Titulo Original  \\\n",
       "322                        CENTRO CHUPACA   \n",
       "5300  =TRIM(LEFT(N5302,FIND(\" -\",N5302)))   \n",
       "\n",
       "                                                                                                                                                                              Texto  \\\n",
       "322                        CENTRO CHUPACA - Los socios de esta institución están citados a sesión para hoy sábado 2 de junio a las 8 p.m. en su local, calle Chacarilla número 459.   \n",
       "5300  CENTRO JULCAMARCA - Cita a sus asociados a la sesión de junta extraordinaria que se realizará hoy jueves 27 a las 8 p.m. en la calle de Quilca número 250, interior 27 altos.   \n",
       "\n",
       "     Unnamed: 14 Seccion de El Comercio  \n",
       "322          NaN                    NaN  \n",
       "5300         NaN                    NaN  "
      ]
     },
     "execution_count": 37,
     "metadata": {},
     "output_type": "execute_result"
    }
   ],
   "source": [
    "import pandas as pd\n",
    "\n",
    "file = \"datos/lima-andina-articulos-con-texto.csv\"\n",
    "df = pd.read_csv(file)\n",
    "df.sample(2)"
   ]
  },
  {
   "cell_type": "code",
   "execution_count": 38,
   "id": "926566f0",
   "metadata": {},
   "outputs": [],
   "source": [
    "df.to_pickle(\"lima-andina-articulos.pkl\")"
   ]
  },
  {
   "cell_type": "code",
   "execution_count": 39,
   "id": "09ce7972",
   "metadata": {},
   "outputs": [],
   "source": [
    "df['Texto'].fillna('unkown', inplace=True)"
   ]
  },
  {
   "cell_type": "code",
   "execution_count": 40,
   "id": "f61e92e4",
   "metadata": {},
   "outputs": [],
   "source": [
    "df['Año'] = pd.DatetimeIndex(df['Fecha']).year"
   ]
  },
  {
   "cell_type": "code",
   "execution_count": 41,
   "id": "cde77648",
   "metadata": {},
   "outputs": [],
   "source": [
    "import spacy\n",
    "nlp = spacy.load(\"es_core_news_sm\")\n",
    "text = \"A mi mejor amigo Rául Pérez le encantan los juegos de aventura elegantes.\"\n",
    "doc = nlp(text)"
   ]
  },
  {
   "cell_type": "code",
   "execution_count": 42,
   "id": "71481142",
   "metadata": {},
   "outputs": [],
   "source": [
    "def display_nlp(doc, include_punct=False):\n",
    "    \"\"\"Generate data frame for visualization of spaCy tokens.\"\"\"\n",
    "    rows = []\n",
    "    for i, t in enumerate(doc):\n",
    "        if not t.is_punct or include_punct:\n",
    "            row = {'token': i,  'text': t.text, 'lemma_': t.lemma_, \n",
    "                   'is_stop': t.is_stop, 'is_alpha': t.is_alpha,\n",
    "                   'pos_': t.pos_, 'dep_': t.dep_, \n",
    "                   'ent_type_': t.ent_type_, 'ent_iob_': t.ent_iob_}\n",
    "            rows.append(row)\n",
    "    \n",
    "    df = pd.DataFrame(rows).set_index('token')\n",
    "    df.index.name = None\n",
    "    return df"
   ]
  },
  {
   "cell_type": "code",
   "execution_count": 43,
   "id": "ac1e8bb4",
   "metadata": {},
   "outputs": [
    {
     "data": {
      "text/html": [
       "<div>\n",
       "<style scoped>\n",
       "    .dataframe tbody tr th:only-of-type {\n",
       "        vertical-align: middle;\n",
       "    }\n",
       "\n",
       "    .dataframe tbody tr th {\n",
       "        vertical-align: top;\n",
       "    }\n",
       "\n",
       "    .dataframe thead th {\n",
       "        text-align: right;\n",
       "    }\n",
       "</style>\n",
       "<table border=\"1\" class=\"dataframe tex2jax_ignore\">\n",
       "  <thead>\n",
       "    <tr style=\"text-align: right;\">\n",
       "      <th></th>\n",
       "      <th>text</th>\n",
       "      <th>lemma_</th>\n",
       "      <th>is_stop</th>\n",
       "      <th>is_alpha</th>\n",
       "      <th>pos_</th>\n",
       "      <th>dep_</th>\n",
       "      <th>ent_type_</th>\n",
       "      <th>ent_iob_</th>\n",
       "    </tr>\n",
       "  </thead>\n",
       "  <tbody>\n",
       "    <tr>\n",
       "      <th>0</th>\n",
       "      <td>A</td>\n",
       "      <td>a</td>\n",
       "      <td>True</td>\n",
       "      <td>True</td>\n",
       "      <td>ADP</td>\n",
       "      <td>case</td>\n",
       "      <td></td>\n",
       "      <td>O</td>\n",
       "    </tr>\n",
       "    <tr>\n",
       "      <th>1</th>\n",
       "      <td>mi</td>\n",
       "      <td>mi</td>\n",
       "      <td>True</td>\n",
       "      <td>True</td>\n",
       "      <td>DET</td>\n",
       "      <td>det</td>\n",
       "      <td></td>\n",
       "      <td>O</td>\n",
       "    </tr>\n",
       "    <tr>\n",
       "      <th>2</th>\n",
       "      <td>mejor</td>\n",
       "      <td>mejor</td>\n",
       "      <td>True</td>\n",
       "      <td>True</td>\n",
       "      <td>ADJ</td>\n",
       "      <td>amod</td>\n",
       "      <td></td>\n",
       "      <td>O</td>\n",
       "    </tr>\n",
       "    <tr>\n",
       "      <th>3</th>\n",
       "      <td>amigo</td>\n",
       "      <td>amigo</td>\n",
       "      <td>False</td>\n",
       "      <td>True</td>\n",
       "      <td>NOUN</td>\n",
       "      <td>obj</td>\n",
       "      <td></td>\n",
       "      <td>O</td>\n",
       "    </tr>\n",
       "    <tr>\n",
       "      <th>4</th>\n",
       "      <td>Rául</td>\n",
       "      <td>Rául</td>\n",
       "      <td>False</td>\n",
       "      <td>True</td>\n",
       "      <td>PROPN</td>\n",
       "      <td>appos</td>\n",
       "      <td>PER</td>\n",
       "      <td>B</td>\n",
       "    </tr>\n",
       "    <tr>\n",
       "      <th>5</th>\n",
       "      <td>Pérez</td>\n",
       "      <td>Pérez</td>\n",
       "      <td>False</td>\n",
       "      <td>True</td>\n",
       "      <td>PROPN</td>\n",
       "      <td>flat</td>\n",
       "      <td>PER</td>\n",
       "      <td>I</td>\n",
       "    </tr>\n",
       "    <tr>\n",
       "      <th>6</th>\n",
       "      <td>le</td>\n",
       "      <td>él</td>\n",
       "      <td>True</td>\n",
       "      <td>True</td>\n",
       "      <td>PRON</td>\n",
       "      <td>obj</td>\n",
       "      <td></td>\n",
       "      <td>O</td>\n",
       "    </tr>\n",
       "    <tr>\n",
       "      <th>7</th>\n",
       "      <td>encantan</td>\n",
       "      <td>encantar</td>\n",
       "      <td>False</td>\n",
       "      <td>True</td>\n",
       "      <td>VERB</td>\n",
       "      <td>ROOT</td>\n",
       "      <td></td>\n",
       "      <td>O</td>\n",
       "    </tr>\n",
       "    <tr>\n",
       "      <th>8</th>\n",
       "      <td>los</td>\n",
       "      <td>el</td>\n",
       "      <td>True</td>\n",
       "      <td>True</td>\n",
       "      <td>DET</td>\n",
       "      <td>det</td>\n",
       "      <td></td>\n",
       "      <td>O</td>\n",
       "    </tr>\n",
       "    <tr>\n",
       "      <th>9</th>\n",
       "      <td>juegos</td>\n",
       "      <td>juego</td>\n",
       "      <td>False</td>\n",
       "      <td>True</td>\n",
       "      <td>NOUN</td>\n",
       "      <td>nsubj</td>\n",
       "      <td></td>\n",
       "      <td>O</td>\n",
       "    </tr>\n",
       "    <tr>\n",
       "      <th>10</th>\n",
       "      <td>de</td>\n",
       "      <td>de</td>\n",
       "      <td>True</td>\n",
       "      <td>True</td>\n",
       "      <td>ADP</td>\n",
       "      <td>case</td>\n",
       "      <td></td>\n",
       "      <td>O</td>\n",
       "    </tr>\n",
       "    <tr>\n",
       "      <th>11</th>\n",
       "      <td>aventura</td>\n",
       "      <td>aventura</td>\n",
       "      <td>False</td>\n",
       "      <td>True</td>\n",
       "      <td>NOUN</td>\n",
       "      <td>nmod</td>\n",
       "      <td></td>\n",
       "      <td>O</td>\n",
       "    </tr>\n",
       "    <tr>\n",
       "      <th>12</th>\n",
       "      <td>elegantes</td>\n",
       "      <td>elegante</td>\n",
       "      <td>False</td>\n",
       "      <td>True</td>\n",
       "      <td>ADJ</td>\n",
       "      <td>amod</td>\n",
       "      <td></td>\n",
       "      <td>O</td>\n",
       "    </tr>\n",
       "  </tbody>\n",
       "</table>\n",
       "</div>"
      ],
      "text/plain": [
       "         text    lemma_  is_stop  is_alpha   pos_   dep_ ent_type_ ent_iob_\n",
       "0           A         a     True      True    ADP   case                  O\n",
       "1          mi        mi     True      True    DET    det                  O\n",
       "2       mejor     mejor     True      True    ADJ   amod                  O\n",
       "3       amigo     amigo    False      True   NOUN    obj                  O\n",
       "4        Rául      Rául    False      True  PROPN  appos       PER        B\n",
       "5       Pérez     Pérez    False      True  PROPN   flat       PER        I\n",
       "6          le        él     True      True   PRON    obj                  O\n",
       "7    encantan  encantar    False      True   VERB   ROOT                  O\n",
       "8         los        el     True      True    DET    det                  O\n",
       "9      juegos     juego    False      True   NOUN  nsubj                  O\n",
       "10         de        de     True      True    ADP   case                  O\n",
       "11   aventura  aventura    False      True   NOUN   nmod                  O\n",
       "12  elegantes  elegante    False      True    ADJ   amod                  O"
      ]
     },
     "execution_count": 43,
     "metadata": {},
     "output_type": "execute_result"
    }
   ],
   "source": [
    "display_nlp(doc)"
   ]
  },
  {
   "cell_type": "code",
   "execution_count": 44,
   "id": "ce098b5c",
   "metadata": {},
   "outputs": [
    {
     "name": "stdout",
     "output_type": "stream",
     "text": [
      "[Estimado, Rául, sentar, conversar, Saludos, Pedro]\n"
     ]
    }
   ],
   "source": [
    "nlp = spacy.load('es_core_news_sm') ###\n",
    "text = \"Estimado Rául, nos tenemos que sentar y conversar. Saludos, Pedro.\"\n",
    "doc = nlp(text)\n",
    "\n",
    "non_stop = [t for t in doc if not t.is_stop and not t.is_punct]\n",
    "print(non_stop)"
   ]
  },
  {
   "cell_type": "code",
   "execution_count": 45,
   "id": "d9335ce0",
   "metadata": {},
   "outputs": [
    {
     "name": "stdout",
     "output_type": "stream",
     "text": [
      "Saludos\n"
     ]
    }
   ],
   "source": [
    "import textacy\n",
    "\n",
    "tokens = textacy.extract.words(doc, \n",
    "            filter_stops = True,           # default True, no stopwords\n",
    "            filter_punct = True,           # default True, no punctuation\n",
    "            filter_nums = True,            # default False, no numbers\n",
    "            include_pos = ['ADJ', 'NOUN'], # default None = include all\n",
    "            exclude_pos = None,            # default None = exclude none\n",
    "            min_freq = 1)                  # minimum frequency of words\n",
    "\n",
    "print(*[t for t in tokens], sep='|')"
   ]
  },
  {
   "cell_type": "code",
   "execution_count": 46,
   "id": "36651bf9",
   "metadata": {},
   "outputs": [
    {
     "name": "stdout",
     "output_type": "stream",
     "text": [
      "saludo\n"
     ]
    }
   ],
   "source": [
    "def extract_lemmas(doc, **kwargs):\n",
    "    return [t.lemma_ for t in textacy.extract.words(doc, **kwargs)]\n",
    "\n",
    "lemmas = extract_lemmas(doc, include_pos=['ADJ', 'NOUN'])\n",
    "print(*lemmas, sep='|')"
   ]
  },
  {
   "cell_type": "markdown",
   "id": "1cc69be4",
   "metadata": {},
   "source": [
    "### Extraer frases nominales"
   ]
  },
  {
   "cell_type": "code",
   "execution_count": 47,
   "id": "805564ad",
   "metadata": {},
   "outputs": [
    {
     "name": "stdout",
     "output_type": "stream",
     "text": [
      "mejor amigo\n"
     ]
    }
   ],
   "source": [
    "text = \"A mi mejor amigo Rául Pérez le encantan los elegantes juegos de aventura.\"\n",
    "doc = nlp(text)\n",
    "\n",
    "patterns = [\"POS:ADJ POS:NOUN:+\"]\n",
    "\n",
    "if textacy.__version__ < '0.11':\n",
    "    # as in book\n",
    "    spans = textacy.extract.matches(doc, patterns=patterns)\n",
    "else:\n",
    "    # new textacy version\n",
    "    spans = textacy.extract.matches.token_matches(doc, patterns=patterns)\n",
    "    \n",
    "print(*[s.lemma_ for s in spans], sep='|')"
   ]
  },
  {
   "cell_type": "code",
   "execution_count": 48,
   "id": "064d5d58",
   "metadata": {},
   "outputs": [
    {
     "name": "stdout",
     "output_type": "stream",
     "text": [
      "mi mejor amigo|Rául Pérez|le|los elegantes|juegos|aventura\n"
     ]
    }
   ],
   "source": [
    "print(*doc.noun_chunks, sep='|')"
   ]
  },
  {
   "cell_type": "code",
   "execution_count": 49,
   "id": "ff56f111",
   "metadata": {},
   "outputs": [
    {
     "name": "stdout",
     "output_type": "stream",
     "text": [
      "mejor_amigo|elegant_juego\n"
     ]
    }
   ],
   "source": [
    "def extract_noun_phrases(doc, preceding_pos=['NOUN'], sep='_'):\n",
    "    patterns = []\n",
    "    for pos in preceding_pos:\n",
    "        patterns.append(f\"POS:{pos} POS:NOUN:+\")\n",
    "\n",
    "    if textacy.__version__ < '0.11':\n",
    "        # as in book\n",
    "        spans = textacy.extract.matches(doc, patterns=patterns)\n",
    "    else:\n",
    "        # new textacy version\n",
    "        spans = textacy.extract.matches.token_matches(doc, patterns=patterns)\n",
    "\n",
    "    return [sep.join([t.lemma_ for t in s]) for s in spans]\n",
    "\n",
    "print(*extract_noun_phrases(doc, ['ADJ', 'NOUN']), sep='|')"
   ]
  },
  {
   "cell_type": "markdown",
   "id": "197464ee",
   "metadata": {},
   "source": [
    "### Entidades nombradas"
   ]
  },
  {
   "cell_type": "code",
   "execution_count": 50,
   "id": "c62a49f7",
   "metadata": {},
   "outputs": [
    {
     "name": "stdout",
     "output_type": "stream",
     "text": [
      "(Jaime Ojeda, PER) (Transportes Globales, ORG) (Tijuana, LOC) "
     ]
    }
   ],
   "source": [
    "text = \"Jaime Ojeda, gerente de Transportes Globales, vive en Tijuana \"\n",
    "doc = nlp(text)\n",
    "\n",
    "for ent in doc.ents:\n",
    "    print(f\"({ent.text}, {ent.label_})\", end=\" \")"
   ]
  },
  {
   "cell_type": "code",
   "execution_count": 51,
   "id": "2a6617ee",
   "metadata": {},
   "outputs": [
    {
     "data": {
      "text/html": [
       "<span class=\"tex2jax_ignore\"><div class=\"entities\" style=\"line-height: 2.5; direction: ltr\">\n",
       "<mark class=\"entity\" style=\"background: #ddd; padding: 0.45em 0.6em; margin: 0 0.25em; line-height: 1; border-radius: 0.35em;\">\n",
       "    Jaime Ojeda\n",
       "    <span style=\"font-size: 0.8em; font-weight: bold; line-height: 1; border-radius: 0.35em; vertical-align: middle; margin-left: 0.5rem\">PER</span>\n",
       "</mark>\n",
       ", gerente de \n",
       "<mark class=\"entity\" style=\"background: #7aecec; padding: 0.45em 0.6em; margin: 0 0.25em; line-height: 1; border-radius: 0.35em;\">\n",
       "    Transportes Globales\n",
       "    <span style=\"font-size: 0.8em; font-weight: bold; line-height: 1; border-radius: 0.35em; vertical-align: middle; margin-left: 0.5rem\">ORG</span>\n",
       "</mark>\n",
       ", vive en \n",
       "<mark class=\"entity\" style=\"background: #ff9561; padding: 0.45em 0.6em; margin: 0 0.25em; line-height: 1; border-radius: 0.35em;\">\n",
       "    Tijuana\n",
       "    <span style=\"font-size: 0.8em; font-weight: bold; line-height: 1; border-radius: 0.35em; vertical-align: middle; margin-left: 0.5rem\">LOC</span>\n",
       "</mark>\n",
       " </div></span>"
      ],
      "text/plain": [
       "<IPython.core.display.HTML object>"
      ]
     },
     "metadata": {},
     "output_type": "display_data"
    }
   ],
   "source": [
    "from spacy import displacy\n",
    "\n",
    "displacy.render(doc, style='ent', jupyter=True)"
   ]
  },
  {
   "cell_type": "code",
   "execution_count": 52,
   "id": "7d0b1cda",
   "metadata": {},
   "outputs": [],
   "source": [
    "def extract_entities(doc, include_types=None, sep='_'):\n",
    "\n",
    "    ents = textacy.extract.entities(doc, \n",
    "             include_types=include_types, \n",
    "             exclude_types=None, \n",
    "             drop_determiners=True, \n",
    "             min_freq=1)\n",
    "    \n",
    "    return [sep.join([t.lemma_ for t in e])+'/'+e.label_ for e in ents]"
   ]
  },
  {
   "cell_type": "code",
   "execution_count": 53,
   "id": "28821dcb",
   "metadata": {},
   "outputs": [
    {
     "name": "stdout",
     "output_type": "stream",
     "text": [
      "['Jaime_Ojeda/PER', 'Tijuana/LOC']\n"
     ]
    }
   ],
   "source": [
    "print(extract_entities(doc, ['PER', 'LOC']))"
   ]
  },
  {
   "cell_type": "markdown",
   "id": "a741fd25",
   "metadata": {},
   "source": [
    "# Feature Extraction on a Large Dataset\n"
   ]
  },
  {
   "cell_type": "code",
   "execution_count": 54,
   "id": "bb66aabb",
   "metadata": {},
   "outputs": [],
   "source": [
    "def extract_nlp(doc):\n",
    "    return {\n",
    "    'lemmas'          : extract_lemmas(doc, \n",
    "                                     exclude_pos = ['PART', 'PUNCT', \n",
    "                                        'DET', 'PRON', 'SYM', 'SPACE'],\n",
    "                                     filter_stops = False),\n",
    "    'adjs_verbs'      : extract_lemmas(doc, include_pos = ['ADJ', 'VERB']),\n",
    "    'nouns'           : extract_lemmas(doc, include_pos = ['NOUN', 'PROPN']),\n",
    "    'noun_phrases'    : extract_noun_phrases(doc, ['NOUN']),\n",
    "    'adj_noun_phrases': extract_noun_phrases(doc, ['ADJ', 'NOUN']),\n",
    "    'entities'        : extract_entities(doc, ['PER', 'ORG', 'GPE', 'LOC'])\n",
    "    }"
   ]
  },
  {
   "cell_type": "code",
   "execution_count": 55,
   "id": "db6e4e1f",
   "metadata": {},
   "outputs": [],
   "source": [
    "nlp = spacy.load('es_core_news_sm')"
   ]
  },
  {
   "cell_type": "code",
   "execution_count": 56,
   "id": "f91f42b9",
   "metadata": {},
   "outputs": [
    {
     "name": "stdout",
     "output_type": "stream",
     "text": [
      "lemmas: ['a', 'amigo', 'Rául', 'Pérez', 'encantar', 'elegant', 'juego', 'de', 'aventura']\n",
      "adjs_verbs: ['encantar']\n",
      "nouns: ['amigo', 'Rául', 'Pérez', 'elegant', 'juego', 'aventura']\n",
      "noun_phrases: ['elegant_juego']\n",
      "adj_noun_phrases: ['elegant_juego']\n",
      "entities: ['Rául_Pérez/PER']\n"
     ]
    }
   ],
   "source": [
    "text = \"A mi amigo Rául Pérez le encantan los elegantes juegos de aventura.\"\n",
    "doc = nlp(text)\n",
    "for col, values in extract_nlp(doc).items():\n",
    "    print(f\"{col}: {values}\")"
   ]
  },
  {
   "cell_type": "code",
   "execution_count": 57,
   "id": "a65c8c97",
   "metadata": {},
   "outputs": [
    {
     "name": "stdout",
     "output_type": "stream",
     "text": [
      "['lemmas', 'adjs_verbs', 'nouns', 'noun_phrases', 'adj_noun_phrases', 'entities']\n"
     ]
    }
   ],
   "source": [
    "nlp_columns = list(extract_nlp(nlp.make_doc('')).keys())\n",
    "print(nlp_columns)"
   ]
  },
  {
   "cell_type": "code",
   "execution_count": 58,
   "id": "5bf14189",
   "metadata": {},
   "outputs": [
    {
     "data": {
      "text/plain": [
       "6575"
      ]
     },
     "execution_count": 58,
     "metadata": {},
     "output_type": "execute_result"
    }
   ],
   "source": [
    "import sqlite3 ###\n",
    "\n",
    "db_name = \"lima-andina.db\"\n",
    "con = sqlite3.connect(db_name)\n",
    "df.to_sql(\"artículos\", con, index=False, if_exists=\"replace\")"
   ]
  },
  {
   "cell_type": "code",
   "execution_count": 59,
   "id": "c5c388e0",
   "metadata": {},
   "outputs": [],
   "source": [
    "for col in nlp_columns:\n",
    "    df[col] = None"
   ]
  },
  {
   "cell_type": "markdown",
   "id": "9b2dd464",
   "metadata": {},
   "source": [
    "**On Colab**: Choose \"Runtime\"&rarr;\"Change Runtime Type\"&rarr;\"GPU\" to benefit from the GPUs."
   ]
  },
  {
   "cell_type": "code",
   "execution_count": 60,
   "id": "d04c4bbf",
   "metadata": {},
   "outputs": [
    {
     "name": "stdout",
     "output_type": "stream",
     "text": [
      "No GPU found, working on CPU.\n"
     ]
    }
   ],
   "source": [
    "if spacy.prefer_gpu():\n",
    "    print(\"Working on GPU.\")\n",
    "else:\n",
    "    print(\"No GPU found, working on CPU.\")"
   ]
  },
  {
   "cell_type": "code",
   "execution_count": 61,
   "id": "b672e668",
   "metadata": {},
   "outputs": [
    {
     "name": "stdout",
     "output_type": "stream",
     "text": [
      "A|mi|amigo|Rául|Pérez|le|encantan|los|elegantes|juegos|de|aventura|.|"
     ]
    }
   ],
   "source": [
    "import re ###\n",
    "import spacy ###\n",
    "from spacy.tokenizer import Tokenizer\n",
    "from spacy.util import compile_prefix_regex, \\\n",
    "                       compile_infix_regex, compile_suffix_regex\n",
    "\n",
    "def custom_tokenizer(nlp):\n",
    "    \n",
    "    # use default patterns except the ones matched by re.search\n",
    "    prefixes = [pattern for pattern in nlp.Defaults.prefixes \n",
    "                if pattern not in ['-', '_', '#']]\n",
    "    suffixes = [pattern for pattern in nlp.Defaults.suffixes\n",
    "                if pattern not in ['_']]\n",
    "    infixes  = [pattern for pattern in nlp.Defaults.infixes\n",
    "                if not re.search(pattern, 'xx-xx')]\n",
    "\n",
    "    return Tokenizer(vocab          = nlp.vocab, \n",
    "                     rules          = nlp.Defaults.tokenizer_exceptions,\n",
    "                     prefix_search  = compile_prefix_regex(prefixes).search,\n",
    "                     suffix_search  = compile_suffix_regex(suffixes).search,\n",
    "                     infix_finditer = compile_infix_regex(infixes).finditer,\n",
    "                     token_match    = nlp.Defaults.token_match)\n",
    "\n",
    "nlp = spacy.load('es_core_news_sm')\n",
    "nlp.tokenizer = custom_tokenizer(nlp)\n",
    "\n",
    "doc = nlp(text)\n",
    "for token in doc:\n",
    "    print(token, end=\"|\")"
   ]
  },
  {
   "cell_type": "code",
   "execution_count": 62,
   "id": "5b041f2f",
   "metadata": {},
   "outputs": [],
   "source": [
    "nlp = spacy.load('es_core_news_sm', disable=[])\n",
    "nlp.tokenizer = custom_tokenizer(nlp) # optional"
   ]
  },
  {
   "cell_type": "code",
   "execution_count": 63,
   "id": "4f3f19de",
   "metadata": {},
   "outputs": [],
   "source": [
    "# full data set takes about 6-8 minutes\n",
    "# for faster processing use a sample like this\n",
    "# df = df.sample(500)"
   ]
  },
  {
   "cell_type": "code",
   "execution_count": 68,
   "id": "1c10db35",
   "metadata": {},
   "outputs": [
    {
     "name": "stderr",
     "output_type": "stream",
     "text": [
      "100%|██████████| 132/132 [00:49<00:00,  2.66it/s]\n"
     ]
    }
   ],
   "source": [
    "batch_size = 50\n",
    "batches = math.ceil(len(df) / batch_size) ###\n",
    "\n",
    "for i in tqdm(range(0, len(df), batch_size), total=batches):\n",
    "    docs = nlp.pipe(df['Texto'][i:i+batch_size])\n",
    "    \n",
    "    for j, doc in enumerate(docs):\n",
    "        for col, values in extract_nlp(doc).items():\n",
    "            df[col].iloc[i+j] = values"
   ]
  },
  {
   "cell_type": "code",
   "execution_count": 69,
   "id": "06e788ef",
   "metadata": {},
   "outputs": [
    {
     "data": {
      "text/html": [
       "<div>\n",
       "<style scoped>\n",
       "    .dataframe tbody tr th:only-of-type {\n",
       "        vertical-align: middle;\n",
       "    }\n",
       "\n",
       "    .dataframe tbody tr th {\n",
       "        vertical-align: top;\n",
       "    }\n",
       "\n",
       "    .dataframe thead th {\n",
       "        text-align: right;\n",
       "    }\n",
       "</style>\n",
       "<table border=\"1\" class=\"dataframe tex2jax_ignore\">\n",
       "  <thead>\n",
       "    <tr style=\"text-align: right;\">\n",
       "      <th></th>\n",
       "      <th>Texto</th>\n",
       "      <th>lemmas</th>\n",
       "      <th>nouns</th>\n",
       "      <th>noun_phrases</th>\n",
       "      <th>entities</th>\n",
       "    </tr>\n",
       "  </thead>\n",
       "  <tbody>\n",
       "    <tr>\n",
       "      <th>620</th>\n",
       "      <td>SOCIEDAD FRATERNAL HIJOS DE HUANDOVAL - Se ha citado a los miembros de esta institución, a la sesión de asamblea que tendrá lugar el lunes 8 del presente a las 9 p.m.</td>\n",
       "      <td>[SOCIEDAD, fraternal, HIJOS, DE, HUANDOVAL, haber, citar, a, miembro, de, institución, a, sesión, de, asamblea, tener, lugar, lunes, 8, del, presente, a, 9, p.m]</td>\n",
       "      <td>[SOCIEDAD, HIJOS, HUANDOVAL, miembro, institución, sesión, asamblea, lugar, lunes, presente, p.m]</td>\n",
       "      <td>[]</td>\n",
       "      <td>[HUANDOVAL/ORG]</td>\n",
       "    </tr>\n",
       "    <tr>\n",
       "      <th>342</th>\n",
       "      <td>UNION SINQUEÑA CONFEDERADA - Los miembros que forman esta institución quedan citados a junta general ordinaria para el sábado 18 del presente, a las 8 p.m. en el local de costumbre, donde se trata...</td>\n",
       "      <td>[UNION, SINQUEÑA, CONFEDERADA, miembro, formar, institución, quedar, citado, a, junta, general, ordinario, para, sábado, 18, del, presente, a, 8, p.m, en, local, de, costumbre, tratar, de, asunto,...</td>\n",
       "      <td>[UNION, SINQUEÑA, CONFEDERADA, miembro, institución, junta, sábado, presente, p.m, local, costumbre, asunto, interés, sociedad, viaje, señor, presidente, provincia]</td>\n",
       "      <td>[señor_presidente]</td>\n",
       "      <td>[UNION_SINQUEÑA_CONFEDERADA/ORG]</td>\n",
       "    </tr>\n",
       "    <tr>\n",
       "      <th>1620</th>\n",
       "      <td>CENTRO HUANCAVELICA - Los socios de esta institución han sido citados a sesión de asamblea general, hoy lunes, a las 6 de la tarde,  en su local de costumbre, con el fin de tratar sobre la directiva.</td>\n",
       "      <td>[CENTRO, HUANCAVELICA, socio, de, institución, haber, ser, citar, a, sesión, de, asamblea, general, hoy, lunes, a, 6, de, tarde, en, local, de, costumbre, con, fin, de, tratar, sobre, directiva]</td>\n",
       "      <td>[CENTRO, HUANCAVELICA, socio, institución, sesión, asamblea, lunes, local, costumbre, directiva]</td>\n",
       "      <td>[]</td>\n",
       "      <td>[HUANCAVELICA/ORG]</td>\n",
       "    </tr>\n",
       "    <tr>\n",
       "      <th>2931</th>\n",
       "      <td>FRATERNAL HIJOS DE CORACORA - Hace saber a sus asociados que, habiéndose perdido dos talonarios de recibos de la institución, solo tienen valor los que corresponden al número 137, y cuyo recaudado...</td>\n",
       "      <td>[fraternal, HIJOS, DE, CORACORA, hacer, saber, a, asociado, habiéndose, perder, dos, talonario, de, recibo, de, institución, solo, tener, valor, corresponder, al, número, 137, y, recaudador, ser, ...</td>\n",
       "      <td>[HIJOS, CORACORA, asociado, talonario, recibo, institución, valor, número, recaudador, don, Clemente, G., Coronado]</td>\n",
       "      <td>[]</td>\n",
       "      <td>[Clemente_G._Coronado/PER]</td>\n",
       "    </tr>\n",
       "    <tr>\n",
       "      <th>526</th>\n",
       "      <td>PROGRESO DE AYMARAES - Con un crecido número de socios pertenecientes a la provincia de Aymaraes, tuvo lugar el domingo 28 del mes próximo pasado la sesión solemne que con motivo del 11. aniversar...</td>\n",
       "      <td>[PROGRESO, DE, AYMARAES, Con, crecido, número, de, socio, perteneciente, a, provincia, de, Aymaraes, tener, lugar, domingo, 28, del, mes, próximo, pasado, sesión, solemne, con, motivo, 11, anivers...</td>\n",
       "      <td>[PROGRESO, AYMARAES, crecido, número, socio, provincia, Aymaraes, lugar, domingo, mes, sesión, motivo, aniversario, sociedad, acto, palabra, socio, Toribio, Pimentel, Manuel, Miranda, David, Jaram...</td>\n",
       "      <td>[crecido_número, entusiasta_baile]</td>\n",
       "      <td>[PROGRESO/LOC, AYMARAES/LOC, provincia_de_Aymaraes/LOC, Toribio_Pimentel/PER, Manuel_Miranda/PER, David_Jaramillo/PER, Francisco_Anamaría/PER]</td>\n",
       "    </tr>\n",
       "  </tbody>\n",
       "</table>\n",
       "</div>"
      ],
      "text/plain": [
       "                                                                                                                                                                                                        Texto  \\\n",
       "620                                    SOCIEDAD FRATERNAL HIJOS DE HUANDOVAL - Se ha citado a los miembros de esta institución, a la sesión de asamblea que tendrá lugar el lunes 8 del presente a las 9 p.m.   \n",
       "342   UNION SINQUEÑA CONFEDERADA - Los miembros que forman esta institución quedan citados a junta general ordinaria para el sábado 18 del presente, a las 8 p.m. en el local de costumbre, donde se trata...   \n",
       "1620  CENTRO HUANCAVELICA - Los socios de esta institución han sido citados a sesión de asamblea general, hoy lunes, a las 6 de la tarde,  en su local de costumbre, con el fin de tratar sobre la directiva.   \n",
       "2931  FRATERNAL HIJOS DE CORACORA - Hace saber a sus asociados que, habiéndose perdido dos talonarios de recibos de la institución, solo tienen valor los que corresponden al número 137, y cuyo recaudado...   \n",
       "526   PROGRESO DE AYMARAES - Con un crecido número de socios pertenecientes a la provincia de Aymaraes, tuvo lugar el domingo 28 del mes próximo pasado la sesión solemne que con motivo del 11. aniversar...   \n",
       "\n",
       "                                                                                                                                                                                                       lemmas  \\\n",
       "620                                         [SOCIEDAD, fraternal, HIJOS, DE, HUANDOVAL, haber, citar, a, miembro, de, institución, a, sesión, de, asamblea, tener, lugar, lunes, 8, del, presente, a, 9, p.m]   \n",
       "342   [UNION, SINQUEÑA, CONFEDERADA, miembro, formar, institución, quedar, citado, a, junta, general, ordinario, para, sábado, 18, del, presente, a, 8, p.m, en, local, de, costumbre, tratar, de, asunto,...   \n",
       "1620       [CENTRO, HUANCAVELICA, socio, de, institución, haber, ser, citar, a, sesión, de, asamblea, general, hoy, lunes, a, 6, de, tarde, en, local, de, costumbre, con, fin, de, tratar, sobre, directiva]   \n",
       "2931  [fraternal, HIJOS, DE, CORACORA, hacer, saber, a, asociado, habiéndose, perder, dos, talonario, de, recibo, de, institución, solo, tener, valor, corresponder, al, número, 137, y, recaudador, ser, ...   \n",
       "526   [PROGRESO, DE, AYMARAES, Con, crecido, número, de, socio, perteneciente, a, provincia, de, Aymaraes, tener, lugar, domingo, 28, del, mes, próximo, pasado, sesión, solemne, con, motivo, 11, anivers...   \n",
       "\n",
       "                                                                                                                                                                                                        nouns  \\\n",
       "620                                                                                                         [SOCIEDAD, HIJOS, HUANDOVAL, miembro, institución, sesión, asamblea, lugar, lunes, presente, p.m]   \n",
       "342                                      [UNION, SINQUEÑA, CONFEDERADA, miembro, institución, junta, sábado, presente, p.m, local, costumbre, asunto, interés, sociedad, viaje, señor, presidente, provincia]   \n",
       "1620                                                                                                         [CENTRO, HUANCAVELICA, socio, institución, sesión, asamblea, lunes, local, costumbre, directiva]   \n",
       "2931                                                                                      [HIJOS, CORACORA, asociado, talonario, recibo, institución, valor, número, recaudador, don, Clemente, G., Coronado]   \n",
       "526   [PROGRESO, AYMARAES, crecido, número, socio, provincia, Aymaraes, lugar, domingo, mes, sesión, motivo, aniversario, sociedad, acto, palabra, socio, Toribio, Pimentel, Manuel, Miranda, David, Jaram...   \n",
       "\n",
       "                            noun_phrases  \\\n",
       "620                                   []   \n",
       "342                   [señor_presidente]   \n",
       "1620                                  []   \n",
       "2931                                  []   \n",
       "526   [crecido_número, entusiasta_baile]   \n",
       "\n",
       "                                                                                                                                            entities  \n",
       "620                                                                                                                                  [HUANDOVAL/ORG]  \n",
       "342                                                                                                                 [UNION_SINQUEÑA_CONFEDERADA/ORG]  \n",
       "1620                                                                                                                              [HUANCAVELICA/ORG]  \n",
       "2931                                                                                                                      [Clemente_G._Coronado/PER]  \n",
       "526   [PROGRESO/LOC, AYMARAES/LOC, provincia_de_Aymaraes/LOC, Toribio_Pimentel/PER, Manuel_Miranda/PER, David_Jaramillo/PER, Francisco_Anamaría/PER]  "
      ]
     },
     "execution_count": 69,
     "metadata": {},
     "output_type": "execute_result"
    }
   ],
   "source": [
    "df[['Texto', 'lemmas', 'nouns', 'noun_phrases', 'entities']].sample(5)"
   ]
  },
  {
   "cell_type": "code",
   "execution_count": 70,
   "id": "47dee891",
   "metadata": {},
   "outputs": [
    {
     "name": "stderr",
     "output_type": "stream",
     "text": [
      "100%|██████████| 6575/6575 [00:00<00:00, 229699.97it/s]\n"
     ]
    },
    {
     "data": {
      "image/png": "[encoded data removed]",
      "text/plain": [
       "<Figure size 2000x1000 with 1 Axes>"
      ]
     },
     "metadata": {},
     "output_type": "display_data"
    }
   ],
   "source": [
    "from packages.blueprints.exploration import count_words\n",
    "\n",
    "count_words(df, 'entities').head(30).plot(kind='barh', figsize=(20,10)).invert_yaxis()"
   ]
  },
  {
   "cell_type": "markdown",
   "id": "4e23b87d",
   "metadata": {},
   "source": [
    "### Almacenar resultado en base de datos"
   ]
  },
  {
   "cell_type": "code",
   "execution_count": 71,
   "id": "66f03d40",
   "metadata": {},
   "outputs": [
    {
     "data": {
      "text/plain": [
       "6575"
      ]
     },
     "execution_count": 71,
     "metadata": {},
     "output_type": "execute_result"
    }
   ],
   "source": [
    "df[nlp_columns] = df[nlp_columns].applymap(lambda items: ' '.join(items))\n",
    "\n",
    "con = sqlite3.connect(db_name) \n",
    "df.to_sql(\"lima_andina_articulos_nlp\", con, index=False, if_exists=\"replace\")\n",
    "con.close()"
   ]
  }
 ],
 "metadata": {
  "kernelspec": {
   "display_name": "lima-andina",
   "language": "python",
   "name": "python3"
  },
  "language_info": {
   "codemirror_mode": {
    "name": "ipython",
    "version": 3
   },
   "file_extension": ".py",
   "mimetype": "text/x-python",
   "name": "python",
   "nbconvert_exporter": "python",
   "pygments_lexer": "ipython3",
   "version": "3.10.13"
  }
 },
 "nbformat": 4,
 "nbformat_minor": 5
}
