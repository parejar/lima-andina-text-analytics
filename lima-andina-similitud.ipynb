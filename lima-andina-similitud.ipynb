{
 "cells": [
  {
   "cell_type": "markdown",
   "metadata": {},
   "source": [
    "# Feature Engineering and Syntactic Similarity"
   ]
  },
  {
   "cell_type": "markdown",
   "metadata": {},
   "source": [
    "## Remark<div class='tocSkip'/>\n",
    "\n",
    "The code in this notebook differs slightly from the printed book. \n",
    "\n",
    "Several layout and formatting commands, like `figsize` to control figure size or subplot commands are removed in the book.\n",
    "\n",
    "All of this is done to simplify the code in the book and put the focus on the important parts instead of formatting."
   ]
  },
  {
   "cell_type": "markdown",
   "metadata": {},
   "source": [
    "## Setup<div class='tocSkip'/>\n",
    "\n",
    "Set directory locations. If working on Google Colab: copy files and install required libraries."
   ]
  },
  {
   "cell_type": "code",
   "execution_count": 4,
   "metadata": {},
   "outputs": [
    {
     "name": "stdout",
     "output_type": "stream",
     "text": [
      "You are working on a local system.\n",
      "Files will be searched relative to \"..\".\n"
     ]
    }
   ],
   "source": [
    "import sys, os\n",
    "ON_COLAB = 'google.colab' in sys.modules\n",
    "\n",
    "if ON_COLAB:\n",
    "    GIT_ROOT = 'https://github.com/blueprints-for-text-analytics-python/blueprints-text/raw/master'\n",
    "    os.system(f'wget {GIT_ROOT}/ch05/setup.py')\n",
    "\n",
    "%run -i setup.py"
   ]
  },
  {
   "cell_type": "markdown",
   "metadata": {},
   "source": [
    "## Load Python Settings<div class=\"tocSkip\"/>\n",
    "\n",
    "Common imports, defaults for formatting in Matplotlib, Pandas etc."
   ]
  },
  {
   "cell_type": "code",
   "execution_count": 5,
   "metadata": {},
   "outputs": [],
   "source": [
    "%run \"settings.py\"\n",
    "\n",
    "%reload_ext autoreload\n",
    "%autoreload 2\n",
    "%config InlineBackend.figure_format = 'png'"
   ]
  },
  {
   "cell_type": "markdown",
   "metadata": {},
   "source": [
    "# Data preparation"
   ]
  },
  {
   "cell_type": "code",
   "execution_count": 6,
   "metadata": {},
   "outputs": [
    {
     "data": {
      "text/plain": [
       "[['worst', 0],\n",
       " ['foolishness', 1],\n",
       " ['best', 2],\n",
       " ['times', 3],\n",
       " ['it', 4],\n",
       " ['the', 5],\n",
       " ['It', 6],\n",
       " ['of', 7],\n",
       " ['was', 8],\n",
       " ['wisdom', 9],\n",
       " ['age', 10]]"
      ]
     },
     "execution_count": 6,
     "metadata": {},
     "output_type": "execute_result"
    }
   ],
   "source": [
    "sentences = [\"It was the best of times\", \n",
    "             \"it was the worst of times\", \n",
    "             \"it was the age of wisdom\", \n",
    "             \"it was the age of foolishness\"]\n",
    "\n",
    "tokenized_sentences = [[t for t in sentence.split()] for sentence in sentences]\n",
    "\n",
    "vocabulary = set([w for s in tokenized_sentences for w in s])\n",
    "\n",
    "import pandas as pd\n",
    "[[w, i] for i,w in enumerate(vocabulary)]"
   ]
  },
  {
   "cell_type": "markdown",
   "metadata": {},
   "source": [
    "# One-hot by hand"
   ]
  },
  {
   "cell_type": "code",
   "execution_count": 7,
   "metadata": {},
   "outputs": [
    {
     "name": "stdout",
     "output_type": "stream",
     "text": [
      "[0, 0, 1, 1, 0, 1, 1, 1, 1, 0, 0]: It was the best of times\n",
      "[1, 0, 0, 1, 1, 1, 0, 1, 1, 0, 0]: it was the worst of times\n",
      "[0, 0, 0, 0, 1, 1, 0, 1, 1, 1, 1]: it was the age of wisdom\n",
      "[0, 1, 0, 0, 1, 1, 0, 1, 1, 0, 1]: it was the age of foolishness\n"
     ]
    }
   ],
   "source": [
    "def onehot_encode(tokenized_sentence):\n",
    "    return [1 if w in tokenized_sentence else 0 for w in vocabulary]\n",
    "\n",
    "onehot = [onehot_encode(tokenized_sentence) for tokenized_sentence in tokenized_sentences]\n",
    "\n",
    "for (sentence, oh) in zip(sentences, onehot):\n",
    "    print(\"%s: %s\" % (oh, sentence))"
   ]
  },
  {
   "cell_type": "code",
   "execution_count": 8,
   "metadata": {},
   "outputs": [
    {
     "data": {
      "application/vnd.microsoft.datawrangler.viewer.v0+json": {
       "columns": [
        {
         "name": "index",
         "rawType": "int64",
         "type": "integer"
        },
        {
         "name": "worst",
         "rawType": "int64",
         "type": "integer"
        },
        {
         "name": "foolishness",
         "rawType": "int64",
         "type": "integer"
        },
        {
         "name": "best",
         "rawType": "int64",
         "type": "integer"
        },
        {
         "name": "times",
         "rawType": "int64",
         "type": "integer"
        },
        {
         "name": "it",
         "rawType": "int64",
         "type": "integer"
        },
        {
         "name": "the",
         "rawType": "int64",
         "type": "integer"
        },
        {
         "name": "It",
         "rawType": "int64",
         "type": "integer"
        },
        {
         "name": "of",
         "rawType": "int64",
         "type": "integer"
        },
        {
         "name": "was",
         "rawType": "int64",
         "type": "integer"
        },
        {
         "name": "wisdom",
         "rawType": "int64",
         "type": "integer"
        },
        {
         "name": "age",
         "rawType": "int64",
         "type": "integer"
        }
       ],
       "ref": "0578f685-9bb0-4aaa-be22-497bd1b183d3",
       "rows": [
        [
         "0",
         "0",
         "0",
         "1",
         "1",
         "0",
         "1",
         "1",
         "1",
         "1",
         "0",
         "0"
        ],
        [
         "1",
         "1",
         "0",
         "0",
         "1",
         "1",
         "1",
         "0",
         "1",
         "1",
         "0",
         "0"
        ],
        [
         "2",
         "0",
         "0",
         "0",
         "0",
         "1",
         "1",
         "0",
         "1",
         "1",
         "1",
         "1"
        ],
        [
         "3",
         "0",
         "1",
         "0",
         "0",
         "1",
         "1",
         "0",
         "1",
         "1",
         "0",
         "1"
        ]
       ],
       "shape": {
        "columns": 11,
        "rows": 4
       }
      },
      "text/html": [
       "<div>\n",
       "<style scoped>\n",
       "    .dataframe tbody tr th:only-of-type {\n",
       "        vertical-align: middle;\n",
       "    }\n",
       "\n",
       "    .dataframe tbody tr th {\n",
       "        vertical-align: top;\n",
       "    }\n",
       "\n",
       "    .dataframe thead th {\n",
       "        text-align: right;\n",
       "    }\n",
       "</style>\n",
       "<table border=\"1\" class=\"dataframe tex2jax_ignore\">\n",
       "  <thead>\n",
       "    <tr style=\"text-align: right;\">\n",
       "      <th></th>\n",
       "      <th>worst</th>\n",
       "      <th>foolishness</th>\n",
       "      <th>best</th>\n",
       "      <th>times</th>\n",
       "      <th>it</th>\n",
       "      <th>the</th>\n",
       "      <th>It</th>\n",
       "      <th>of</th>\n",
       "      <th>was</th>\n",
       "      <th>wisdom</th>\n",
       "      <th>age</th>\n",
       "    </tr>\n",
       "  </thead>\n",
       "  <tbody>\n",
       "    <tr>\n",
       "      <th>0</th>\n",
       "      <td>0</td>\n",
       "      <td>0</td>\n",
       "      <td>1</td>\n",
       "      <td>1</td>\n",
       "      <td>0</td>\n",
       "      <td>1</td>\n",
       "      <td>1</td>\n",
       "      <td>1</td>\n",
       "      <td>1</td>\n",
       "      <td>0</td>\n",
       "      <td>0</td>\n",
       "    </tr>\n",
       "    <tr>\n",
       "      <th>1</th>\n",
       "      <td>1</td>\n",
       "      <td>0</td>\n",
       "      <td>0</td>\n",
       "      <td>1</td>\n",
       "      <td>1</td>\n",
       "      <td>1</td>\n",
       "      <td>0</td>\n",
       "      <td>1</td>\n",
       "      <td>1</td>\n",
       "      <td>0</td>\n",
       "      <td>0</td>\n",
       "    </tr>\n",
       "    <tr>\n",
       "      <th>2</th>\n",
       "      <td>0</td>\n",
       "      <td>0</td>\n",
       "      <td>0</td>\n",
       "      <td>0</td>\n",
       "      <td>1</td>\n",
       "      <td>1</td>\n",
       "      <td>0</td>\n",
       "      <td>1</td>\n",
       "      <td>1</td>\n",
       "      <td>1</td>\n",
       "      <td>1</td>\n",
       "    </tr>\n",
       "    <tr>\n",
       "      <th>3</th>\n",
       "      <td>0</td>\n",
       "      <td>1</td>\n",
       "      <td>0</td>\n",
       "      <td>0</td>\n",
       "      <td>1</td>\n",
       "      <td>1</td>\n",
       "      <td>0</td>\n",
       "      <td>1</td>\n",
       "      <td>1</td>\n",
       "      <td>0</td>\n",
       "      <td>1</td>\n",
       "    </tr>\n",
       "  </tbody>\n",
       "</table>\n",
       "</div>"
      ],
      "text/plain": [
       "   worst  foolishness  best  times  it  the  It  of  was  wisdom  age\n",
       "0      0            0     1      1   0    1   1   1    1       0    0\n",
       "1      1            0     0      1   1    1   0   1    1       0    0\n",
       "2      0            0     0      0   1    1   0   1    1       1    1\n",
       "3      0            1     0      0   1    1   0   1    1       0    1"
      ]
     },
     "execution_count": 8,
     "metadata": {},
     "output_type": "execute_result"
    }
   ],
   "source": [
    "pd.DataFrame(onehot, columns=list(vocabulary))"
   ]
  },
  {
   "cell_type": "code",
   "execution_count": 9,
   "metadata": {},
   "outputs": [
    {
     "data": {
      "text/plain": [
       "4"
      ]
     },
     "execution_count": 9,
     "metadata": {},
     "output_type": "execute_result"
    }
   ],
   "source": [
    "sim = [onehot[0][i] & onehot[1][i] for i in range(0, len(vocabulary))]\n",
    "sum(sim)"
   ]
  },
  {
   "cell_type": "code",
   "execution_count": 10,
   "metadata": {},
   "outputs": [
    {
     "data": {
      "text/plain": [
       "np.int64(4)"
      ]
     },
     "execution_count": 10,
     "metadata": {},
     "output_type": "execute_result"
    }
   ],
   "source": [
    "import numpy as np\n",
    "np.dot(onehot[0], onehot[1])"
   ]
  },
  {
   "cell_type": "code",
   "execution_count": 11,
   "metadata": {},
   "outputs": [
    {
     "data": {
      "text/plain": [
       "array([4, 6, 4, 4])"
      ]
     },
     "execution_count": 11,
     "metadata": {},
     "output_type": "execute_result"
    }
   ],
   "source": [
    "np.dot(onehot, onehot[1])"
   ]
  },
  {
   "cell_type": "markdown",
   "metadata": {},
   "source": [
    "## Out of vocabulary"
   ]
  },
  {
   "cell_type": "code",
   "execution_count": 12,
   "metadata": {},
   "outputs": [
    {
     "data": {
      "text/plain": [
       "[0, 0, 1, 1, 0, 1, 0, 1, 0, 1, 1]"
      ]
     },
     "execution_count": 12,
     "metadata": {},
     "output_type": "execute_result"
    }
   ],
   "source": [
    "onehot_encode(\"the age of wisdom is the best of times\".split())"
   ]
  },
  {
   "cell_type": "code",
   "execution_count": 13,
   "metadata": {},
   "outputs": [
    {
     "data": {
      "text/plain": [
       "[0, 0, 0, 0, 0, 0, 0, 0, 0, 0, 0]"
      ]
     },
     "execution_count": 13,
     "metadata": {},
     "output_type": "execute_result"
    }
   ],
   "source": [
    "onehot_encode(\"John likes to watch movies. Mary likes movies too.\".split())"
   ]
  },
  {
   "cell_type": "markdown",
   "metadata": {},
   "source": [
    "## document term matrix"
   ]
  },
  {
   "cell_type": "code",
   "execution_count": 14,
   "metadata": {},
   "outputs": [
    {
     "data": {
      "text/plain": [
       "[[0, 0, 1, 1, 0, 1, 1, 1, 1, 0, 0],\n",
       " [1, 0, 0, 1, 1, 1, 0, 1, 1, 0, 0],\n",
       " [0, 0, 0, 0, 1, 1, 0, 1, 1, 1, 1],\n",
       " [0, 1, 0, 0, 1, 1, 0, 1, 1, 0, 1]]"
      ]
     },
     "execution_count": 14,
     "metadata": {},
     "output_type": "execute_result"
    }
   ],
   "source": [
    "onehot"
   ]
  },
  {
   "cell_type": "markdown",
   "metadata": {},
   "source": [
    "## similarities"
   ]
  },
  {
   "cell_type": "code",
   "execution_count": 15,
   "metadata": {},
   "outputs": [
    {
     "data": {
      "text/plain": [
       "array([[6, 4, 3, 3],\n",
       "       [4, 6, 4, 4],\n",
       "       [3, 4, 6, 5],\n",
       "       [3, 4, 5, 6]])"
      ]
     },
     "execution_count": 15,
     "metadata": {},
     "output_type": "execute_result"
    }
   ],
   "source": [
    "import numpy as np\n",
    "np.dot(onehot, np.transpose(onehot))"
   ]
  },
  {
   "cell_type": "markdown",
   "metadata": {},
   "source": [
    "# scikit learn one-hot vectorization"
   ]
  },
  {
   "cell_type": "code",
   "execution_count": 16,
   "metadata": {},
   "outputs": [
    {
     "data": {
      "text/plain": [
       "array([[1, 0, 1, 0, 0, 1, 1, 1, 1, 0, 0],\n",
       "       [0, 0, 0, 0, 1, 1, 1, 1, 1, 0, 1],\n",
       "       [0, 1, 0, 0, 1, 1, 1, 0, 1, 1, 0],\n",
       "       [0, 1, 0, 1, 1, 1, 1, 0, 1, 0, 0]])"
      ]
     },
     "execution_count": 16,
     "metadata": {},
     "output_type": "execute_result"
    }
   ],
   "source": [
    "from sklearn.preprocessing import MultiLabelBinarizer\n",
    "lb = MultiLabelBinarizer()\n",
    "lb.fit([vocabulary])\n",
    "lb.transform(tokenized_sentences)"
   ]
  },
  {
   "cell_type": "markdown",
   "metadata": {},
   "source": [
    "# CountVectorizer"
   ]
  },
  {
   "cell_type": "code",
   "execution_count": 17,
   "metadata": {},
   "outputs": [],
   "source": [
    "from sklearn.feature_extraction.text import CountVectorizer\n",
    "cv = CountVectorizer()"
   ]
  },
  {
   "cell_type": "code",
   "execution_count": 18,
   "metadata": {},
   "outputs": [
    {
     "data": {
      "application/vnd.microsoft.datawrangler.viewer.v0+json": {
       "columns": [
        {
         "name": "index",
         "rawType": "int64",
         "type": "integer"
        },
        {
         "name": "0",
         "rawType": "object",
         "type": "string"
        }
       ],
       "ref": "1c3c5d3d-be8b-4bd7-bd57-73f9bbbc10cc",
       "rows": [
        [
         "0",
         "It was the best of times"
        ],
        [
         "1",
         "it was the worst of times"
        ],
        [
         "2",
         "it was the age of wisdom"
        ],
        [
         "3",
         "it was the age of foolishness"
        ],
        [
         "4",
         "John likes to watch movies. Mary likes movies too."
        ],
        [
         "5",
         "Mary also likes to watch football games."
        ]
       ],
       "shape": {
        "columns": 1,
        "rows": 6
       }
      },
      "text/html": [
       "<div>\n",
       "<style scoped>\n",
       "    .dataframe tbody tr th:only-of-type {\n",
       "        vertical-align: middle;\n",
       "    }\n",
       "\n",
       "    .dataframe tbody tr th {\n",
       "        vertical-align: top;\n",
       "    }\n",
       "\n",
       "    .dataframe thead th {\n",
       "        text-align: right;\n",
       "    }\n",
       "</style>\n",
       "<table border=\"1\" class=\"dataframe tex2jax_ignore\">\n",
       "  <thead>\n",
       "    <tr style=\"text-align: right;\">\n",
       "      <th></th>\n",
       "      <th>0</th>\n",
       "    </tr>\n",
       "  </thead>\n",
       "  <tbody>\n",
       "    <tr>\n",
       "      <th>0</th>\n",
       "      <td>It was the best of times</td>\n",
       "    </tr>\n",
       "    <tr>\n",
       "      <th>1</th>\n",
       "      <td>it was the worst of times</td>\n",
       "    </tr>\n",
       "    <tr>\n",
       "      <th>2</th>\n",
       "      <td>it was the age of wisdom</td>\n",
       "    </tr>\n",
       "    <tr>\n",
       "      <th>3</th>\n",
       "      <td>it was the age of foolishness</td>\n",
       "    </tr>\n",
       "    <tr>\n",
       "      <th>4</th>\n",
       "      <td>John likes to watch movies. Mary likes movies too.</td>\n",
       "    </tr>\n",
       "    <tr>\n",
       "      <th>5</th>\n",
       "      <td>Mary also likes to watch football games.</td>\n",
       "    </tr>\n",
       "  </tbody>\n",
       "</table>\n",
       "</div>"
      ],
      "text/plain": [
       "                                                    0\n",
       "0                            It was the best of times\n",
       "1                           it was the worst of times\n",
       "2                            it was the age of wisdom\n",
       "3                       it was the age of foolishness\n",
       "4  John likes to watch movies. Mary likes movies too.\n",
       "5            Mary also likes to watch football games."
      ]
     },
     "execution_count": 18,
     "metadata": {},
     "output_type": "execute_result"
    }
   ],
   "source": [
    "more_sentences = sentences + [\"John likes to watch movies. Mary likes movies too.\",\n",
    "                              \"Mary also likes to watch football games.\"]\n",
    "pd.DataFrame(more_sentences)"
   ]
  },
  {
   "cell_type": "code",
   "execution_count": 19,
   "metadata": {},
   "outputs": [
    {
     "data": {
      "text/html": [
       "<style>#sk-container-id-1 {\n",
       "  /* Definition of color scheme common for light and dark mode */\n",
       "  --sklearn-color-text: #000;\n",
       "  --sklearn-color-text-muted: #666;\n",
       "  --sklearn-color-line: gray;\n",
       "  /* Definition of color scheme for unfitted estimators */\n",
       "  --sklearn-color-unfitted-level-0: #fff5e6;\n",
       "  --sklearn-color-unfitted-level-1: #f6e4d2;\n",
       "  --sklearn-color-unfitted-level-2: #ffe0b3;\n",
       "  --sklearn-color-unfitted-level-3: chocolate;\n",
       "  /* Definition of color scheme for fitted estimators */\n",
       "  --sklearn-color-fitted-level-0: #f0f8ff;\n",
       "  --sklearn-color-fitted-level-1: #d4ebff;\n",
       "  --sklearn-color-fitted-level-2: #b3dbfd;\n",
       "  --sklearn-color-fitted-level-3: cornflowerblue;\n",
       "\n",
       "  /* Specific color for light theme */\n",
       "  --sklearn-color-text-on-default-background: var(--sg-text-color, var(--theme-code-foreground, var(--jp-content-font-color1, black)));\n",
       "  --sklearn-color-background: var(--sg-background-color, var(--theme-background, var(--jp-layout-color0, white)));\n",
       "  --sklearn-color-border-box: var(--sg-text-color, var(--theme-code-foreground, var(--jp-content-font-color1, black)));\n",
       "  --sklearn-color-icon: #696969;\n",
       "\n",
       "  @media (prefers-color-scheme: dark) {\n",
       "    /* Redefinition of color scheme for dark theme */\n",
       "    --sklearn-color-text-on-default-background: var(--sg-text-color, var(--theme-code-foreground, var(--jp-content-font-color1, white)));\n",
       "    --sklearn-color-background: var(--sg-background-color, var(--theme-background, var(--jp-layout-color0, #111)));\n",
       "    --sklearn-color-border-box: var(--sg-text-color, var(--theme-code-foreground, var(--jp-content-font-color1, white)));\n",
       "    --sklearn-color-icon: #878787;\n",
       "  }\n",
       "}\n",
       "\n",
       "#sk-container-id-1 {\n",
       "  color: var(--sklearn-color-text);\n",
       "}\n",
       "\n",
       "#sk-container-id-1 pre {\n",
       "  padding: 0;\n",
       "}\n",
       "\n",
       "#sk-container-id-1 input.sk-hidden--visually {\n",
       "  border: 0;\n",
       "  clip: rect(1px 1px 1px 1px);\n",
       "  clip: rect(1px, 1px, 1px, 1px);\n",
       "  height: 1px;\n",
       "  margin: -1px;\n",
       "  overflow: hidden;\n",
       "  padding: 0;\n",
       "  position: absolute;\n",
       "  width: 1px;\n",
       "}\n",
       "\n",
       "#sk-container-id-1 div.sk-dashed-wrapped {\n",
       "  border: 1px dashed var(--sklearn-color-line);\n",
       "  margin: 0 0.4em 0.5em 0.4em;\n",
       "  box-sizing: border-box;\n",
       "  padding-bottom: 0.4em;\n",
       "  background-color: var(--sklearn-color-background);\n",
       "}\n",
       "\n",
       "#sk-container-id-1 div.sk-container {\n",
       "  /* jupyter's `normalize.less` sets `[hidden] { display: none; }`\n",
       "     but bootstrap.min.css set `[hidden] { display: none !important; }`\n",
       "     so we also need the `!important` here to be able to override the\n",
       "     default hidden behavior on the sphinx rendered scikit-learn.org.\n",
       "     See: https://github.com/scikit-learn/scikit-learn/issues/21755 */\n",
       "  display: inline-block !important;\n",
       "  position: relative;\n",
       "}\n",
       "\n",
       "#sk-container-id-1 div.sk-text-repr-fallback {\n",
       "  display: none;\n",
       "}\n",
       "\n",
       "div.sk-parallel-item,\n",
       "div.sk-serial,\n",
       "div.sk-item {\n",
       "  /* draw centered vertical line to link estimators */\n",
       "  background-image: linear-gradient(var(--sklearn-color-text-on-default-background), var(--sklearn-color-text-on-default-background));\n",
       "  background-size: 2px 100%;\n",
       "  background-repeat: no-repeat;\n",
       "  background-position: center center;\n",
       "}\n",
       "\n",
       "/* Parallel-specific style estimator block */\n",
       "\n",
       "#sk-container-id-1 div.sk-parallel-item::after {\n",
       "  content: \"\";\n",
       "  width: 100%;\n",
       "  border-bottom: 2px solid var(--sklearn-color-text-on-default-background);\n",
       "  flex-grow: 1;\n",
       "}\n",
       "\n",
       "#sk-container-id-1 div.sk-parallel {\n",
       "  display: flex;\n",
       "  align-items: stretch;\n",
       "  justify-content: center;\n",
       "  background-color: var(--sklearn-color-background);\n",
       "  position: relative;\n",
       "}\n",
       "\n",
       "#sk-container-id-1 div.sk-parallel-item {\n",
       "  display: flex;\n",
       "  flex-direction: column;\n",
       "}\n",
       "\n",
       "#sk-container-id-1 div.sk-parallel-item:first-child::after {\n",
       "  align-self: flex-end;\n",
       "  width: 50%;\n",
       "}\n",
       "\n",
       "#sk-container-id-1 div.sk-parallel-item:last-child::after {\n",
       "  align-self: flex-start;\n",
       "  width: 50%;\n",
       "}\n",
       "\n",
       "#sk-container-id-1 div.sk-parallel-item:only-child::after {\n",
       "  width: 0;\n",
       "}\n",
       "\n",
       "/* Serial-specific style estimator block */\n",
       "\n",
       "#sk-container-id-1 div.sk-serial {\n",
       "  display: flex;\n",
       "  flex-direction: column;\n",
       "  align-items: center;\n",
       "  background-color: var(--sklearn-color-background);\n",
       "  padding-right: 1em;\n",
       "  padding-left: 1em;\n",
       "}\n",
       "\n",
       "\n",
       "/* Toggleable style: style used for estimator/Pipeline/ColumnTransformer box that is\n",
       "clickable and can be expanded/collapsed.\n",
       "- Pipeline and ColumnTransformer use this feature and define the default style\n",
       "- Estimators will overwrite some part of the style using the `sk-estimator` class\n",
       "*/\n",
       "\n",
       "/* Pipeline and ColumnTransformer style (default) */\n",
       "\n",
       "#sk-container-id-1 div.sk-toggleable {\n",
       "  /* Default theme specific background. It is overwritten whether we have a\n",
       "  specific estimator or a Pipeline/ColumnTransformer */\n",
       "  background-color: var(--sklearn-color-background);\n",
       "}\n",
       "\n",
       "/* Toggleable label */\n",
       "#sk-container-id-1 label.sk-toggleable__label {\n",
       "  cursor: pointer;\n",
       "  display: flex;\n",
       "  width: 100%;\n",
       "  margin-bottom: 0;\n",
       "  padding: 0.5em;\n",
       "  box-sizing: border-box;\n",
       "  text-align: center;\n",
       "  align-items: start;\n",
       "  justify-content: space-between;\n",
       "  gap: 0.5em;\n",
       "}\n",
       "\n",
       "#sk-container-id-1 label.sk-toggleable__label .caption {\n",
       "  font-size: 0.6rem;\n",
       "  font-weight: lighter;\n",
       "  color: var(--sklearn-color-text-muted);\n",
       "}\n",
       "\n",
       "#sk-container-id-1 label.sk-toggleable__label-arrow:before {\n",
       "  /* Arrow on the left of the label */\n",
       "  content: \"▸\";\n",
       "  float: left;\n",
       "  margin-right: 0.25em;\n",
       "  color: var(--sklearn-color-icon);\n",
       "}\n",
       "\n",
       "#sk-container-id-1 label.sk-toggleable__label-arrow:hover:before {\n",
       "  color: var(--sklearn-color-text);\n",
       "}\n",
       "\n",
       "/* Toggleable content - dropdown */\n",
       "\n",
       "#sk-container-id-1 div.sk-toggleable__content {\n",
       "  display: none;\n",
       "  text-align: left;\n",
       "  /* unfitted */\n",
       "  background-color: var(--sklearn-color-unfitted-level-0);\n",
       "}\n",
       "\n",
       "#sk-container-id-1 div.sk-toggleable__content.fitted {\n",
       "  /* fitted */\n",
       "  background-color: var(--sklearn-color-fitted-level-0);\n",
       "}\n",
       "\n",
       "#sk-container-id-1 div.sk-toggleable__content pre {\n",
       "  margin: 0.2em;\n",
       "  border-radius: 0.25em;\n",
       "  color: var(--sklearn-color-text);\n",
       "  /* unfitted */\n",
       "  background-color: var(--sklearn-color-unfitted-level-0);\n",
       "}\n",
       "\n",
       "#sk-container-id-1 div.sk-toggleable__content.fitted pre {\n",
       "  /* unfitted */\n",
       "  background-color: var(--sklearn-color-fitted-level-0);\n",
       "}\n",
       "\n",
       "#sk-container-id-1 input.sk-toggleable__control:checked~div.sk-toggleable__content {\n",
       "  /* Expand drop-down */\n",
       "  display: block;\n",
       "  width: 100%;\n",
       "  overflow: visible;\n",
       "}\n",
       "\n",
       "#sk-container-id-1 input.sk-toggleable__control:checked~label.sk-toggleable__label-arrow:before {\n",
       "  content: \"▾\";\n",
       "}\n",
       "\n",
       "/* Pipeline/ColumnTransformer-specific style */\n",
       "\n",
       "#sk-container-id-1 div.sk-label input.sk-toggleable__control:checked~label.sk-toggleable__label {\n",
       "  color: var(--sklearn-color-text);\n",
       "  background-color: var(--sklearn-color-unfitted-level-2);\n",
       "}\n",
       "\n",
       "#sk-container-id-1 div.sk-label.fitted input.sk-toggleable__control:checked~label.sk-toggleable__label {\n",
       "  background-color: var(--sklearn-color-fitted-level-2);\n",
       "}\n",
       "\n",
       "/* Estimator-specific style */\n",
       "\n",
       "/* Colorize estimator box */\n",
       "#sk-container-id-1 div.sk-estimator input.sk-toggleable__control:checked~label.sk-toggleable__label {\n",
       "  /* unfitted */\n",
       "  background-color: var(--sklearn-color-unfitted-level-2);\n",
       "}\n",
       "\n",
       "#sk-container-id-1 div.sk-estimator.fitted input.sk-toggleable__control:checked~label.sk-toggleable__label {\n",
       "  /* fitted */\n",
       "  background-color: var(--sklearn-color-fitted-level-2);\n",
       "}\n",
       "\n",
       "#sk-container-id-1 div.sk-label label.sk-toggleable__label,\n",
       "#sk-container-id-1 div.sk-label label {\n",
       "  /* The background is the default theme color */\n",
       "  color: var(--sklearn-color-text-on-default-background);\n",
       "}\n",
       "\n",
       "/* On hover, darken the color of the background */\n",
       "#sk-container-id-1 div.sk-label:hover label.sk-toggleable__label {\n",
       "  color: var(--sklearn-color-text);\n",
       "  background-color: var(--sklearn-color-unfitted-level-2);\n",
       "}\n",
       "\n",
       "/* Label box, darken color on hover, fitted */\n",
       "#sk-container-id-1 div.sk-label.fitted:hover label.sk-toggleable__label.fitted {\n",
       "  color: var(--sklearn-color-text);\n",
       "  background-color: var(--sklearn-color-fitted-level-2);\n",
       "}\n",
       "\n",
       "/* Estimator label */\n",
       "\n",
       "#sk-container-id-1 div.sk-label label {\n",
       "  font-family: monospace;\n",
       "  font-weight: bold;\n",
       "  display: inline-block;\n",
       "  line-height: 1.2em;\n",
       "}\n",
       "\n",
       "#sk-container-id-1 div.sk-label-container {\n",
       "  text-align: center;\n",
       "}\n",
       "\n",
       "/* Estimator-specific */\n",
       "#sk-container-id-1 div.sk-estimator {\n",
       "  font-family: monospace;\n",
       "  border: 1px dotted var(--sklearn-color-border-box);\n",
       "  border-radius: 0.25em;\n",
       "  box-sizing: border-box;\n",
       "  margin-bottom: 0.5em;\n",
       "  /* unfitted */\n",
       "  background-color: var(--sklearn-color-unfitted-level-0);\n",
       "}\n",
       "\n",
       "#sk-container-id-1 div.sk-estimator.fitted {\n",
       "  /* fitted */\n",
       "  background-color: var(--sklearn-color-fitted-level-0);\n",
       "}\n",
       "\n",
       "/* on hover */\n",
       "#sk-container-id-1 div.sk-estimator:hover {\n",
       "  /* unfitted */\n",
       "  background-color: var(--sklearn-color-unfitted-level-2);\n",
       "}\n",
       "\n",
       "#sk-container-id-1 div.sk-estimator.fitted:hover {\n",
       "  /* fitted */\n",
       "  background-color: var(--sklearn-color-fitted-level-2);\n",
       "}\n",
       "\n",
       "/* Specification for estimator info (e.g. \"i\" and \"?\") */\n",
       "\n",
       "/* Common style for \"i\" and \"?\" */\n",
       "\n",
       ".sk-estimator-doc-link,\n",
       "a:link.sk-estimator-doc-link,\n",
       "a:visited.sk-estimator-doc-link {\n",
       "  float: right;\n",
       "  font-size: smaller;\n",
       "  line-height: 1em;\n",
       "  font-family: monospace;\n",
       "  background-color: var(--sklearn-color-background);\n",
       "  border-radius: 1em;\n",
       "  height: 1em;\n",
       "  width: 1em;\n",
       "  text-decoration: none !important;\n",
       "  margin-left: 0.5em;\n",
       "  text-align: center;\n",
       "  /* unfitted */\n",
       "  border: var(--sklearn-color-unfitted-level-1) 1pt solid;\n",
       "  color: var(--sklearn-color-unfitted-level-1);\n",
       "}\n",
       "\n",
       ".sk-estimator-doc-link.fitted,\n",
       "a:link.sk-estimator-doc-link.fitted,\n",
       "a:visited.sk-estimator-doc-link.fitted {\n",
       "  /* fitted */\n",
       "  border: var(--sklearn-color-fitted-level-1) 1pt solid;\n",
       "  color: var(--sklearn-color-fitted-level-1);\n",
       "}\n",
       "\n",
       "/* On hover */\n",
       "div.sk-estimator:hover .sk-estimator-doc-link:hover,\n",
       ".sk-estimator-doc-link:hover,\n",
       "div.sk-label-container:hover .sk-estimator-doc-link:hover,\n",
       ".sk-estimator-doc-link:hover {\n",
       "  /* unfitted */\n",
       "  background-color: var(--sklearn-color-unfitted-level-3);\n",
       "  color: var(--sklearn-color-background);\n",
       "  text-decoration: none;\n",
       "}\n",
       "\n",
       "div.sk-estimator.fitted:hover .sk-estimator-doc-link.fitted:hover,\n",
       ".sk-estimator-doc-link.fitted:hover,\n",
       "div.sk-label-container:hover .sk-estimator-doc-link.fitted:hover,\n",
       ".sk-estimator-doc-link.fitted:hover {\n",
       "  /* fitted */\n",
       "  background-color: var(--sklearn-color-fitted-level-3);\n",
       "  color: var(--sklearn-color-background);\n",
       "  text-decoration: none;\n",
       "}\n",
       "\n",
       "/* Span, style for the box shown on hovering the info icon */\n",
       ".sk-estimator-doc-link span {\n",
       "  display: none;\n",
       "  z-index: 9999;\n",
       "  position: relative;\n",
       "  font-weight: normal;\n",
       "  right: .2ex;\n",
       "  padding: .5ex;\n",
       "  margin: .5ex;\n",
       "  width: min-content;\n",
       "  min-width: 20ex;\n",
       "  max-width: 50ex;\n",
       "  color: var(--sklearn-color-text);\n",
       "  box-shadow: 2pt 2pt 4pt #999;\n",
       "  /* unfitted */\n",
       "  background: var(--sklearn-color-unfitted-level-0);\n",
       "  border: .5pt solid var(--sklearn-color-unfitted-level-3);\n",
       "}\n",
       "\n",
       ".sk-estimator-doc-link.fitted span {\n",
       "  /* fitted */\n",
       "  background: var(--sklearn-color-fitted-level-0);\n",
       "  border: var(--sklearn-color-fitted-level-3);\n",
       "}\n",
       "\n",
       ".sk-estimator-doc-link:hover span {\n",
       "  display: block;\n",
       "}\n",
       "\n",
       "/* \"?\"-specific style due to the `<a>` HTML tag */\n",
       "\n",
       "#sk-container-id-1 a.estimator_doc_link {\n",
       "  float: right;\n",
       "  font-size: 1rem;\n",
       "  line-height: 1em;\n",
       "  font-family: monospace;\n",
       "  background-color: var(--sklearn-color-background);\n",
       "  border-radius: 1rem;\n",
       "  height: 1rem;\n",
       "  width: 1rem;\n",
       "  text-decoration: none;\n",
       "  /* unfitted */\n",
       "  color: var(--sklearn-color-unfitted-level-1);\n",
       "  border: var(--sklearn-color-unfitted-level-1) 1pt solid;\n",
       "}\n",
       "\n",
       "#sk-container-id-1 a.estimator_doc_link.fitted {\n",
       "  /* fitted */\n",
       "  border: var(--sklearn-color-fitted-level-1) 1pt solid;\n",
       "  color: var(--sklearn-color-fitted-level-1);\n",
       "}\n",
       "\n",
       "/* On hover */\n",
       "#sk-container-id-1 a.estimator_doc_link:hover {\n",
       "  /* unfitted */\n",
       "  background-color: var(--sklearn-color-unfitted-level-3);\n",
       "  color: var(--sklearn-color-background);\n",
       "  text-decoration: none;\n",
       "}\n",
       "\n",
       "#sk-container-id-1 a.estimator_doc_link.fitted:hover {\n",
       "  /* fitted */\n",
       "  background-color: var(--sklearn-color-fitted-level-3);\n",
       "}\n",
       "\n",
       ".estimator-table summary {\n",
       "    padding: .5rem;\n",
       "    font-family: monospace;\n",
       "    cursor: pointer;\n",
       "}\n",
       "\n",
       ".estimator-table details[open] {\n",
       "    padding-left: 0.1rem;\n",
       "    padding-right: 0.1rem;\n",
       "    padding-bottom: 0.3rem;\n",
       "}\n",
       "\n",
       ".estimator-table .parameters-table {\n",
       "    margin-left: auto !important;\n",
       "    margin-right: auto !important;\n",
       "}\n",
       "\n",
       ".estimator-table .parameters-table tr:nth-child(odd) {\n",
       "    background-color: #fff;\n",
       "}\n",
       "\n",
       ".estimator-table .parameters-table tr:nth-child(even) {\n",
       "    background-color: #f6f6f6;\n",
       "}\n",
       "\n",
       ".estimator-table .parameters-table tr:hover {\n",
       "    background-color: #e0e0e0;\n",
       "}\n",
       "\n",
       ".estimator-table table td {\n",
       "    border: 1px solid rgba(106, 105, 104, 0.232);\n",
       "}\n",
       "\n",
       ".user-set td {\n",
       "    color:rgb(255, 94, 0);\n",
       "    text-align: left;\n",
       "}\n",
       "\n",
       ".user-set td.value pre {\n",
       "    color:rgb(255, 94, 0) !important;\n",
       "    background-color: transparent !important;\n",
       "}\n",
       "\n",
       ".default td {\n",
       "    color: black;\n",
       "    text-align: left;\n",
       "}\n",
       "\n",
       ".user-set td i,\n",
       ".default td i {\n",
       "    color: black;\n",
       "}\n",
       "\n",
       ".copy-paste-icon {\n",
       "    background-image: url(data:image/svg+xml;base64,PHN2ZyB4bWxucz0iaHR0cDovL3d3dy53My5vcmcvMjAwMC9zdmciIHZpZXdCb3g9IjAgMCA0NDggNTEyIj48IS0tIUZvbnQgQXdlc29tZSBGcmVlIDYuNy4yIGJ5IEBmb250YXdlc29tZSAtIGh0dHBzOi8vZm9udGF3ZXNvbWUuY29tIExpY2Vuc2UgLSBodHRwczovL2ZvbnRhd2Vzb21lLmNvbS9saWNlbnNlL2ZyZWUgQ29weXJpZ2h0IDIwMjUgRm9udGljb25zLCBJbmMuLS0+PHBhdGggZD0iTTIwOCAwTDMzMi4xIDBjMTIuNyAwIDI0LjkgNS4xIDMzLjkgMTQuMWw2Ny45IDY3LjljOSA5IDE0LjEgMjEuMiAxNC4xIDMzLjlMNDQ4IDMzNmMwIDI2LjUtMjEuNSA0OC00OCA0OGwtMTkyIDBjLTI2LjUgMC00OC0yMS41LTQ4LTQ4bDAtMjg4YzAtMjYuNSAyMS41LTQ4IDQ4LTQ4ek00OCAxMjhsODAgMCAwIDY0LTY0IDAgMCAyNTYgMTkyIDAgMC0zMiA2NCAwIDAgNDhjMCAyNi41LTIxLjUgNDgtNDggNDhMNDggNTEyYy0yNi41IDAtNDgtMjEuNS00OC00OEwwIDE3NmMwLTI2LjUgMjEuNS00OCA0OC00OHoiLz48L3N2Zz4=);\n",
       "    background-repeat: no-repeat;\n",
       "    background-size: 14px 14px;\n",
       "    background-position: 0;\n",
       "    display: inline-block;\n",
       "    width: 14px;\n",
       "    height: 14px;\n",
       "    cursor: pointer;\n",
       "}\n",
       "</style><body><div id=\"sk-container-id-1\" class=\"sk-top-container\"><div class=\"sk-text-repr-fallback\"><pre>CountVectorizer()</pre><b>In a Jupyter environment, please rerun this cell to show the HTML representation or trust the notebook. <br />On GitHub, the HTML representation is unable to render, please try loading this page with nbviewer.org.</b></div><div class=\"sk-container\" hidden><div class=\"sk-item\"><div class=\"sk-estimator fitted sk-toggleable\"><input class=\"sk-toggleable__control sk-hidden--visually\" id=\"sk-estimator-id-1\" type=\"checkbox\" checked><label for=\"sk-estimator-id-1\" class=\"sk-toggleable__label fitted sk-toggleable__label-arrow\"><div><div>CountVectorizer</div></div><div><a class=\"sk-estimator-doc-link fitted\" rel=\"noreferrer\" target=\"_blank\" href=\"https://scikit-learn.org/1.7/modules/generated/sklearn.feature_extraction.text.CountVectorizer.html\">?<span>Documentation for CountVectorizer</span></a><span class=\"sk-estimator-doc-link fitted\">i<span>Fitted</span></span></div></label><div class=\"sk-toggleable__content fitted\" data-param-prefix=\"\">\n",
       "        <div class=\"estimator-table\">\n",
       "            <details>\n",
       "                <summary>Parameters</summary>\n",
       "                <table class=\"parameters-table\">\n",
       "                  <tbody>\n",
       "                    \n",
       "        <tr class=\"default\">\n",
       "            <td><i class=\"copy-paste-icon\"\n",
       "                 onclick=\"copyToClipboard('input',\n",
       "                          this.parentElement.nextElementSibling)\"\n",
       "            ></i></td>\n",
       "            <td class=\"param\">input&nbsp;</td>\n",
       "            <td class=\"value\">&#x27;content&#x27;</td>\n",
       "        </tr>\n",
       "    \n",
       "\n",
       "        <tr class=\"default\">\n",
       "            <td><i class=\"copy-paste-icon\"\n",
       "                 onclick=\"copyToClipboard('encoding',\n",
       "                          this.parentElement.nextElementSibling)\"\n",
       "            ></i></td>\n",
       "            <td class=\"param\">encoding&nbsp;</td>\n",
       "            <td class=\"value\">&#x27;utf-8&#x27;</td>\n",
       "        </tr>\n",
       "    \n",
       "\n",
       "        <tr class=\"default\">\n",
       "            <td><i class=\"copy-paste-icon\"\n",
       "                 onclick=\"copyToClipboard('decode_error',\n",
       "                          this.parentElement.nextElementSibling)\"\n",
       "            ></i></td>\n",
       "            <td class=\"param\">decode_error&nbsp;</td>\n",
       "            <td class=\"value\">&#x27;strict&#x27;</td>\n",
       "        </tr>\n",
       "    \n",
       "\n",
       "        <tr class=\"default\">\n",
       "            <td><i class=\"copy-paste-icon\"\n",
       "                 onclick=\"copyToClipboard('strip_accents',\n",
       "                          this.parentElement.nextElementSibling)\"\n",
       "            ></i></td>\n",
       "            <td class=\"param\">strip_accents&nbsp;</td>\n",
       "            <td class=\"value\">None</td>\n",
       "        </tr>\n",
       "    \n",
       "\n",
       "        <tr class=\"default\">\n",
       "            <td><i class=\"copy-paste-icon\"\n",
       "                 onclick=\"copyToClipboard('lowercase',\n",
       "                          this.parentElement.nextElementSibling)\"\n",
       "            ></i></td>\n",
       "            <td class=\"param\">lowercase&nbsp;</td>\n",
       "            <td class=\"value\">True</td>\n",
       "        </tr>\n",
       "    \n",
       "\n",
       "        <tr class=\"default\">\n",
       "            <td><i class=\"copy-paste-icon\"\n",
       "                 onclick=\"copyToClipboard('preprocessor',\n",
       "                          this.parentElement.nextElementSibling)\"\n",
       "            ></i></td>\n",
       "            <td class=\"param\">preprocessor&nbsp;</td>\n",
       "            <td class=\"value\">None</td>\n",
       "        </tr>\n",
       "    \n",
       "\n",
       "        <tr class=\"default\">\n",
       "            <td><i class=\"copy-paste-icon\"\n",
       "                 onclick=\"copyToClipboard('tokenizer',\n",
       "                          this.parentElement.nextElementSibling)\"\n",
       "            ></i></td>\n",
       "            <td class=\"param\">tokenizer&nbsp;</td>\n",
       "            <td class=\"value\">None</td>\n",
       "        </tr>\n",
       "    \n",
       "\n",
       "        <tr class=\"default\">\n",
       "            <td><i class=\"copy-paste-icon\"\n",
       "                 onclick=\"copyToClipboard('stop_words',\n",
       "                          this.parentElement.nextElementSibling)\"\n",
       "            ></i></td>\n",
       "            <td class=\"param\">stop_words&nbsp;</td>\n",
       "            <td class=\"value\">None</td>\n",
       "        </tr>\n",
       "    \n",
       "\n",
       "        <tr class=\"default\">\n",
       "            <td><i class=\"copy-paste-icon\"\n",
       "                 onclick=\"copyToClipboard('token_pattern',\n",
       "                          this.parentElement.nextElementSibling)\"\n",
       "            ></i></td>\n",
       "            <td class=\"param\">token_pattern&nbsp;</td>\n",
       "            <td class=\"value\">&#x27;(?u)\\\\b\\\\w\\\\w+\\\\b&#x27;</td>\n",
       "        </tr>\n",
       "    \n",
       "\n",
       "        <tr class=\"default\">\n",
       "            <td><i class=\"copy-paste-icon\"\n",
       "                 onclick=\"copyToClipboard('ngram_range',\n",
       "                          this.parentElement.nextElementSibling)\"\n",
       "            ></i></td>\n",
       "            <td class=\"param\">ngram_range&nbsp;</td>\n",
       "            <td class=\"value\">(1, ...)</td>\n",
       "        </tr>\n",
       "    \n",
       "\n",
       "        <tr class=\"default\">\n",
       "            <td><i class=\"copy-paste-icon\"\n",
       "                 onclick=\"copyToClipboard('analyzer',\n",
       "                          this.parentElement.nextElementSibling)\"\n",
       "            ></i></td>\n",
       "            <td class=\"param\">analyzer&nbsp;</td>\n",
       "            <td class=\"value\">&#x27;word&#x27;</td>\n",
       "        </tr>\n",
       "    \n",
       "\n",
       "        <tr class=\"default\">\n",
       "            <td><i class=\"copy-paste-icon\"\n",
       "                 onclick=\"copyToClipboard('max_df',\n",
       "                          this.parentElement.nextElementSibling)\"\n",
       "            ></i></td>\n",
       "            <td class=\"param\">max_df&nbsp;</td>\n",
       "            <td class=\"value\">1.0</td>\n",
       "        </tr>\n",
       "    \n",
       "\n",
       "        <tr class=\"default\">\n",
       "            <td><i class=\"copy-paste-icon\"\n",
       "                 onclick=\"copyToClipboard('min_df',\n",
       "                          this.parentElement.nextElementSibling)\"\n",
       "            ></i></td>\n",
       "            <td class=\"param\">min_df&nbsp;</td>\n",
       "            <td class=\"value\">1</td>\n",
       "        </tr>\n",
       "    \n",
       "\n",
       "        <tr class=\"default\">\n",
       "            <td><i class=\"copy-paste-icon\"\n",
       "                 onclick=\"copyToClipboard('max_features',\n",
       "                          this.parentElement.nextElementSibling)\"\n",
       "            ></i></td>\n",
       "            <td class=\"param\">max_features&nbsp;</td>\n",
       "            <td class=\"value\">None</td>\n",
       "        </tr>\n",
       "    \n",
       "\n",
       "        <tr class=\"default\">\n",
       "            <td><i class=\"copy-paste-icon\"\n",
       "                 onclick=\"copyToClipboard('vocabulary',\n",
       "                          this.parentElement.nextElementSibling)\"\n",
       "            ></i></td>\n",
       "            <td class=\"param\">vocabulary&nbsp;</td>\n",
       "            <td class=\"value\">None</td>\n",
       "        </tr>\n",
       "    \n",
       "\n",
       "        <tr class=\"default\">\n",
       "            <td><i class=\"copy-paste-icon\"\n",
       "                 onclick=\"copyToClipboard('binary',\n",
       "                          this.parentElement.nextElementSibling)\"\n",
       "            ></i></td>\n",
       "            <td class=\"param\">binary&nbsp;</td>\n",
       "            <td class=\"value\">False</td>\n",
       "        </tr>\n",
       "    \n",
       "\n",
       "        <tr class=\"default\">\n",
       "            <td><i class=\"copy-paste-icon\"\n",
       "                 onclick=\"copyToClipboard('dtype',\n",
       "                          this.parentElement.nextElementSibling)\"\n",
       "            ></i></td>\n",
       "            <td class=\"param\">dtype&nbsp;</td>\n",
       "            <td class=\"value\">&lt;class &#x27;numpy.int64&#x27;&gt;</td>\n",
       "        </tr>\n",
       "    \n",
       "                  </tbody>\n",
       "                </table>\n",
       "            </details>\n",
       "        </div>\n",
       "    </div></div></div></div></div><script>function copyToClipboard(text, element) {\n",
       "    // Get the parameter prefix from the closest toggleable content\n",
       "    const toggleableContent = element.closest('.sk-toggleable__content');\n",
       "    const paramPrefix = toggleableContent ? toggleableContent.dataset.paramPrefix : '';\n",
       "    const fullParamName = paramPrefix ? `${paramPrefix}${text}` : text;\n",
       "\n",
       "    const originalStyle = element.style;\n",
       "    const computedStyle = window.getComputedStyle(element);\n",
       "    const originalWidth = computedStyle.width;\n",
       "    const originalHTML = element.innerHTML.replace('Copied!', '');\n",
       "\n",
       "    navigator.clipboard.writeText(fullParamName)\n",
       "        .then(() => {\n",
       "            element.style.width = originalWidth;\n",
       "            element.style.color = 'green';\n",
       "            element.innerHTML = \"Copied!\";\n",
       "\n",
       "            setTimeout(() => {\n",
       "                element.innerHTML = originalHTML;\n",
       "                element.style = originalStyle;\n",
       "            }, 2000);\n",
       "        })\n",
       "        .catch(err => {\n",
       "            console.error('Failed to copy:', err);\n",
       "            element.style.color = 'red';\n",
       "            element.innerHTML = \"Failed!\";\n",
       "            setTimeout(() => {\n",
       "                element.innerHTML = originalHTML;\n",
       "                element.style = originalStyle;\n",
       "            }, 2000);\n",
       "        });\n",
       "    return false;\n",
       "}\n",
       "\n",
       "document.querySelectorAll('.fa-regular.fa-copy').forEach(function(element) {\n",
       "    const toggleableContent = element.closest('.sk-toggleable__content');\n",
       "    const paramPrefix = toggleableContent ? toggleableContent.dataset.paramPrefix : '';\n",
       "    const paramName = element.parentElement.nextElementSibling.textContent.trim();\n",
       "    const fullParamName = paramPrefix ? `${paramPrefix}${paramName}` : paramName;\n",
       "\n",
       "    element.setAttribute('title', fullParamName);\n",
       "});\n",
       "</script></body>"
      ],
      "text/plain": [
       "CountVectorizer()"
      ]
     },
     "execution_count": 19,
     "metadata": {},
     "output_type": "execute_result"
    }
   ],
   "source": [
    "cv.fit(more_sentences)"
   ]
  },
  {
   "cell_type": "code",
   "execution_count": 20,
   "metadata": {},
   "outputs": [
    {
     "name": "stdout",
     "output_type": "stream",
     "text": [
      "['age' 'also' 'best' 'foolishness' 'football' 'games' 'it' 'john' 'likes'\n",
      " 'mary' 'movies' 'of' 'the' 'times' 'to' 'too' 'was' 'watch' 'wisdom'\n",
      " 'worst']\n"
     ]
    }
   ],
   "source": [
    "print(cv.get_feature_names_out())"
   ]
  },
  {
   "cell_type": "code",
   "execution_count": 21,
   "metadata": {},
   "outputs": [],
   "source": [
    "dt = cv.transform(more_sentences)"
   ]
  },
  {
   "cell_type": "code",
   "execution_count": 22,
   "metadata": {},
   "outputs": [
    {
     "data": {
      "text/plain": [
       "<Compressed Sparse Row sparse matrix of dtype 'int64'\n",
       "\twith 38 stored elements and shape (6, 20)>"
      ]
     },
     "execution_count": 22,
     "metadata": {},
     "output_type": "execute_result"
    }
   ],
   "source": [
    "dt"
   ]
  },
  {
   "cell_type": "code",
   "execution_count": 23,
   "metadata": {},
   "outputs": [
    {
     "data": {
      "application/vnd.microsoft.datawrangler.viewer.v0+json": {
       "columns": [
        {
         "name": "index",
         "rawType": "int64",
         "type": "integer"
        },
        {
         "name": "age",
         "rawType": "int64",
         "type": "integer"
        },
        {
         "name": "also",
         "rawType": "int64",
         "type": "integer"
        },
        {
         "name": "best",
         "rawType": "int64",
         "type": "integer"
        },
        {
         "name": "foolishness",
         "rawType": "int64",
         "type": "integer"
        },
        {
         "name": "football",
         "rawType": "int64",
         "type": "integer"
        },
        {
         "name": "games",
         "rawType": "int64",
         "type": "integer"
        },
        {
         "name": "it",
         "rawType": "int64",
         "type": "integer"
        },
        {
         "name": "john",
         "rawType": "int64",
         "type": "integer"
        },
        {
         "name": "likes",
         "rawType": "int64",
         "type": "integer"
        },
        {
         "name": "mary",
         "rawType": "int64",
         "type": "integer"
        },
        {
         "name": "movies",
         "rawType": "int64",
         "type": "integer"
        },
        {
         "name": "of",
         "rawType": "int64",
         "type": "integer"
        },
        {
         "name": "the",
         "rawType": "int64",
         "type": "integer"
        },
        {
         "name": "times",
         "rawType": "int64",
         "type": "integer"
        },
        {
         "name": "to",
         "rawType": "int64",
         "type": "integer"
        },
        {
         "name": "too",
         "rawType": "int64",
         "type": "integer"
        },
        {
         "name": "was",
         "rawType": "int64",
         "type": "integer"
        },
        {
         "name": "watch",
         "rawType": "int64",
         "type": "integer"
        },
        {
         "name": "wisdom",
         "rawType": "int64",
         "type": "integer"
        },
        {
         "name": "worst",
         "rawType": "int64",
         "type": "integer"
        }
       ],
       "ref": "63e13730-dcea-43da-bfc9-899a75b1935c",
       "rows": [
        [
         "0",
         "0",
         "0",
         "1",
         "0",
         "0",
         "0",
         "1",
         "0",
         "0",
         "0",
         "0",
         "1",
         "1",
         "1",
         "0",
         "0",
         "1",
         "0",
         "0",
         "0"
        ],
        [
         "1",
         "0",
         "0",
         "0",
         "0",
         "0",
         "0",
         "1",
         "0",
         "0",
         "0",
         "0",
         "1",
         "1",
         "1",
         "0",
         "0",
         "1",
         "0",
         "0",
         "1"
        ],
        [
         "2",
         "1",
         "0",
         "0",
         "0",
         "0",
         "0",
         "1",
         "0",
         "0",
         "0",
         "0",
         "1",
         "1",
         "0",
         "0",
         "0",
         "1",
         "0",
         "1",
         "0"
        ],
        [
         "3",
         "1",
         "0",
         "0",
         "1",
         "0",
         "0",
         "1",
         "0",
         "0",
         "0",
         "0",
         "1",
         "1",
         "0",
         "0",
         "0",
         "1",
         "0",
         "0",
         "0"
        ],
        [
         "4",
         "0",
         "0",
         "0",
         "0",
         "0",
         "0",
         "0",
         "1",
         "2",
         "1",
         "2",
         "0",
         "0",
         "0",
         "1",
         "1",
         "0",
         "1",
         "0",
         "0"
        ],
        [
         "5",
         "0",
         "1",
         "0",
         "0",
         "1",
         "1",
         "0",
         "0",
         "1",
         "1",
         "0",
         "0",
         "0",
         "0",
         "1",
         "0",
         "0",
         "1",
         "0",
         "0"
        ]
       ],
       "shape": {
        "columns": 20,
        "rows": 6
       }
      },
      "text/html": [
       "<div>\n",
       "<style scoped>\n",
       "    .dataframe tbody tr th:only-of-type {\n",
       "        vertical-align: middle;\n",
       "    }\n",
       "\n",
       "    .dataframe tbody tr th {\n",
       "        vertical-align: top;\n",
       "    }\n",
       "\n",
       "    .dataframe thead th {\n",
       "        text-align: right;\n",
       "    }\n",
       "</style>\n",
       "<table border=\"1\" class=\"dataframe tex2jax_ignore\">\n",
       "  <thead>\n",
       "    <tr style=\"text-align: right;\">\n",
       "      <th></th>\n",
       "      <th>age</th>\n",
       "      <th>also</th>\n",
       "      <th>best</th>\n",
       "      <th>foolishness</th>\n",
       "      <th>football</th>\n",
       "      <th>games</th>\n",
       "      <th>it</th>\n",
       "      <th>john</th>\n",
       "      <th>likes</th>\n",
       "      <th>mary</th>\n",
       "      <th>movies</th>\n",
       "      <th>of</th>\n",
       "      <th>the</th>\n",
       "      <th>times</th>\n",
       "      <th>to</th>\n",
       "      <th>too</th>\n",
       "      <th>was</th>\n",
       "      <th>watch</th>\n",
       "      <th>wisdom</th>\n",
       "      <th>worst</th>\n",
       "    </tr>\n",
       "  </thead>\n",
       "  <tbody>\n",
       "    <tr>\n",
       "      <th>0</th>\n",
       "      <td>0</td>\n",
       "      <td>0</td>\n",
       "      <td>1</td>\n",
       "      <td>0</td>\n",
       "      <td>0</td>\n",
       "      <td>0</td>\n",
       "      <td>1</td>\n",
       "      <td>0</td>\n",
       "      <td>0</td>\n",
       "      <td>0</td>\n",
       "      <td>0</td>\n",
       "      <td>1</td>\n",
       "      <td>1</td>\n",
       "      <td>1</td>\n",
       "      <td>0</td>\n",
       "      <td>0</td>\n",
       "      <td>1</td>\n",
       "      <td>0</td>\n",
       "      <td>0</td>\n",
       "      <td>0</td>\n",
       "    </tr>\n",
       "    <tr>\n",
       "      <th>1</th>\n",
       "      <td>0</td>\n",
       "      <td>0</td>\n",
       "      <td>0</td>\n",
       "      <td>0</td>\n",
       "      <td>0</td>\n",
       "      <td>0</td>\n",
       "      <td>1</td>\n",
       "      <td>0</td>\n",
       "      <td>0</td>\n",
       "      <td>0</td>\n",
       "      <td>0</td>\n",
       "      <td>1</td>\n",
       "      <td>1</td>\n",
       "      <td>1</td>\n",
       "      <td>0</td>\n",
       "      <td>0</td>\n",
       "      <td>1</td>\n",
       "      <td>0</td>\n",
       "      <td>0</td>\n",
       "      <td>1</td>\n",
       "    </tr>\n",
       "    <tr>\n",
       "      <th>2</th>\n",
       "      <td>1</td>\n",
       "      <td>0</td>\n",
       "      <td>0</td>\n",
       "      <td>0</td>\n",
       "      <td>0</td>\n",
       "      <td>0</td>\n",
       "      <td>1</td>\n",
       "      <td>0</td>\n",
       "      <td>0</td>\n",
       "      <td>0</td>\n",
       "      <td>0</td>\n",
       "      <td>1</td>\n",
       "      <td>1</td>\n",
       "      <td>0</td>\n",
       "      <td>0</td>\n",
       "      <td>0</td>\n",
       "      <td>1</td>\n",
       "      <td>0</td>\n",
       "      <td>1</td>\n",
       "      <td>0</td>\n",
       "    </tr>\n",
       "    <tr>\n",
       "      <th>3</th>\n",
       "      <td>1</td>\n",
       "      <td>0</td>\n",
       "      <td>0</td>\n",
       "      <td>1</td>\n",
       "      <td>0</td>\n",
       "      <td>0</td>\n",
       "      <td>1</td>\n",
       "      <td>0</td>\n",
       "      <td>0</td>\n",
       "      <td>0</td>\n",
       "      <td>0</td>\n",
       "      <td>1</td>\n",
       "      <td>1</td>\n",
       "      <td>0</td>\n",
       "      <td>0</td>\n",
       "      <td>0</td>\n",
       "      <td>1</td>\n",
       "      <td>0</td>\n",
       "      <td>0</td>\n",
       "      <td>0</td>\n",
       "    </tr>\n",
       "    <tr>\n",
       "      <th>4</th>\n",
       "      <td>0</td>\n",
       "      <td>0</td>\n",
       "      <td>0</td>\n",
       "      <td>0</td>\n",
       "      <td>0</td>\n",
       "      <td>0</td>\n",
       "      <td>0</td>\n",
       "      <td>1</td>\n",
       "      <td>2</td>\n",
       "      <td>1</td>\n",
       "      <td>2</td>\n",
       "      <td>0</td>\n",
       "      <td>0</td>\n",
       "      <td>0</td>\n",
       "      <td>1</td>\n",
       "      <td>1</td>\n",
       "      <td>0</td>\n",
       "      <td>1</td>\n",
       "      <td>0</td>\n",
       "      <td>0</td>\n",
       "    </tr>\n",
       "    <tr>\n",
       "      <th>5</th>\n",
       "      <td>0</td>\n",
       "      <td>1</td>\n",
       "      <td>0</td>\n",
       "      <td>0</td>\n",
       "      <td>1</td>\n",
       "      <td>1</td>\n",
       "      <td>0</td>\n",
       "      <td>0</td>\n",
       "      <td>1</td>\n",
       "      <td>1</td>\n",
       "      <td>0</td>\n",
       "      <td>0</td>\n",
       "      <td>0</td>\n",
       "      <td>0</td>\n",
       "      <td>1</td>\n",
       "      <td>0</td>\n",
       "      <td>0</td>\n",
       "      <td>1</td>\n",
       "      <td>0</td>\n",
       "      <td>0</td>\n",
       "    </tr>\n",
       "  </tbody>\n",
       "</table>\n",
       "</div>"
      ],
      "text/plain": [
       "   age  also  best  foolishness  football  games  it  john  likes  mary  \\\n",
       "0    0     0     1            0         0      0   1     0      0     0   \n",
       "1    0     0     0            0         0      0   1     0      0     0   \n",
       "2    1     0     0            0         0      0   1     0      0     0   \n",
       "3    1     0     0            1         0      0   1     0      0     0   \n",
       "4    0     0     0            0         0      0   0     1      2     1   \n",
       "5    0     1     0            0         1      1   0     0      1     1   \n",
       "\n",
       "   movies  of  the  times  to  too  was  watch  wisdom  worst  \n",
       "0       0   1    1      1   0    0    1      0       0      0  \n",
       "1       0   1    1      1   0    0    1      0       0      1  \n",
       "2       0   1    1      0   0    0    1      0       1      0  \n",
       "3       0   1    1      0   0    0    1      0       0      0  \n",
       "4       2   0    0      0   1    1    0      1       0      0  \n",
       "5       0   0    0      0   1    0    0      1       0      0  "
      ]
     },
     "execution_count": 23,
     "metadata": {},
     "output_type": "execute_result"
    }
   ],
   "source": [
    "pd.DataFrame(dt.toarray(), columns=cv.get_feature_names_out())"
   ]
  },
  {
   "cell_type": "code",
   "execution_count": 24,
   "metadata": {},
   "outputs": [
    {
     "data": {
      "text/plain": [
       "array([[0.83333333]])"
      ]
     },
     "execution_count": 24,
     "metadata": {},
     "output_type": "execute_result"
    }
   ],
   "source": [
    "from sklearn.metrics.pairwise import cosine_similarity\n",
    "cosine_similarity(dt[0], dt[1])"
   ]
  },
  {
   "cell_type": "code",
   "execution_count": 25,
   "metadata": {},
   "outputs": [
    {
     "data": {
      "text/plain": [
       "6"
      ]
     },
     "execution_count": 25,
     "metadata": {},
     "output_type": "execute_result"
    }
   ],
   "source": [
    "len(more_sentences)"
   ]
  },
  {
   "cell_type": "code",
   "execution_count": 26,
   "metadata": {},
   "outputs": [
    {
     "data": {
      "application/vnd.microsoft.datawrangler.viewer.v0+json": {
       "columns": [
        {
         "name": "index",
         "rawType": "int64",
         "type": "integer"
        },
        {
         "name": "0",
         "rawType": "float64",
         "type": "float"
        },
        {
         "name": "1",
         "rawType": "float64",
         "type": "float"
        },
        {
         "name": "2",
         "rawType": "float64",
         "type": "float"
        },
        {
         "name": "3",
         "rawType": "float64",
         "type": "float"
        },
        {
         "name": "4",
         "rawType": "float64",
         "type": "float"
        },
        {
         "name": "5",
         "rawType": "float64",
         "type": "float"
        }
       ],
       "ref": "7322ed4c-9109-4bc4-965e-c76aa9a484c0",
       "rows": [
        [
         "0",
         "1.0000000000000002",
         "0.8333333333333336",
         "0.6666666666666669",
         "0.6666666666666669",
         "0.0",
         "0.0"
        ],
        [
         "1",
         "0.8333333333333336",
         "1.0000000000000002",
         "0.6666666666666669",
         "0.6666666666666669",
         "0.0",
         "0.0"
        ],
        [
         "2",
         "0.6666666666666669",
         "0.6666666666666669",
         "1.0000000000000002",
         "0.8333333333333336",
         "0.0",
         "0.0"
        ],
        [
         "3",
         "0.6666666666666669",
         "0.6666666666666669",
         "0.8333333333333336",
         "1.0000000000000002",
         "0.0",
         "0.0"
        ],
        [
         "4",
         "0.0",
         "0.0",
         "0.0",
         "0.0",
         "1.0",
         "0.5241424183609591"
        ],
        [
         "5",
         "0.0",
         "0.0",
         "0.0",
         "0.0",
         "0.5241424183609591",
         "0.9999999999999997"
        ]
       ],
       "shape": {
        "columns": 6,
        "rows": 6
       }
      },
      "text/html": [
       "<div>\n",
       "<style scoped>\n",
       "    .dataframe tbody tr th:only-of-type {\n",
       "        vertical-align: middle;\n",
       "    }\n",
       "\n",
       "    .dataframe tbody tr th {\n",
       "        vertical-align: top;\n",
       "    }\n",
       "\n",
       "    .dataframe thead th {\n",
       "        text-align: right;\n",
       "    }\n",
       "</style>\n",
       "<table border=\"1\" class=\"dataframe tex2jax_ignore\">\n",
       "  <thead>\n",
       "    <tr style=\"text-align: right;\">\n",
       "      <th></th>\n",
       "      <th>0</th>\n",
       "      <th>1</th>\n",
       "      <th>2</th>\n",
       "      <th>3</th>\n",
       "      <th>4</th>\n",
       "      <th>5</th>\n",
       "    </tr>\n",
       "  </thead>\n",
       "  <tbody>\n",
       "    <tr>\n",
       "      <th>0</th>\n",
       "      <td>1.00</td>\n",
       "      <td>0.83</td>\n",
       "      <td>0.67</td>\n",
       "      <td>0.67</td>\n",
       "      <td>0.00</td>\n",
       "      <td>0.00</td>\n",
       "    </tr>\n",
       "    <tr>\n",
       "      <th>1</th>\n",
       "      <td>0.83</td>\n",
       "      <td>1.00</td>\n",
       "      <td>0.67</td>\n",
       "      <td>0.67</td>\n",
       "      <td>0.00</td>\n",
       "      <td>0.00</td>\n",
       "    </tr>\n",
       "    <tr>\n",
       "      <th>2</th>\n",
       "      <td>0.67</td>\n",
       "      <td>0.67</td>\n",
       "      <td>1.00</td>\n",
       "      <td>0.83</td>\n",
       "      <td>0.00</td>\n",
       "      <td>0.00</td>\n",
       "    </tr>\n",
       "    <tr>\n",
       "      <th>3</th>\n",
       "      <td>0.67</td>\n",
       "      <td>0.67</td>\n",
       "      <td>0.83</td>\n",
       "      <td>1.00</td>\n",
       "      <td>0.00</td>\n",
       "      <td>0.00</td>\n",
       "    </tr>\n",
       "    <tr>\n",
       "      <th>4</th>\n",
       "      <td>0.00</td>\n",
       "      <td>0.00</td>\n",
       "      <td>0.00</td>\n",
       "      <td>0.00</td>\n",
       "      <td>1.00</td>\n",
       "      <td>0.52</td>\n",
       "    </tr>\n",
       "    <tr>\n",
       "      <th>5</th>\n",
       "      <td>0.00</td>\n",
       "      <td>0.00</td>\n",
       "      <td>0.00</td>\n",
       "      <td>0.00</td>\n",
       "      <td>0.52</td>\n",
       "      <td>1.00</td>\n",
       "    </tr>\n",
       "  </tbody>\n",
       "</table>\n",
       "</div>"
      ],
      "text/plain": [
       "     0    1    2    3    4    5\n",
       "0 1.00 0.83 0.67 0.67 0.00 0.00\n",
       "1 0.83 1.00 0.67 0.67 0.00 0.00\n",
       "2 0.67 0.67 1.00 0.83 0.00 0.00\n",
       "3 0.67 0.67 0.83 1.00 0.00 0.00\n",
       "4 0.00 0.00 0.00 0.00 1.00 0.52\n",
       "5 0.00 0.00 0.00 0.00 0.52 1.00"
      ]
     },
     "execution_count": 26,
     "metadata": {},
     "output_type": "execute_result"
    }
   ],
   "source": [
    "pd.DataFrame(cosine_similarity(dt, dt))"
   ]
  },
  {
   "cell_type": "markdown",
   "metadata": {},
   "source": [
    "# TF/IDF"
   ]
  },
  {
   "cell_type": "code",
   "execution_count": 27,
   "metadata": {},
   "outputs": [],
   "source": [
    "from sklearn.feature_extraction.text import TfidfTransformer\n",
    "tfidf = TfidfTransformer()\n",
    "tfidf_dt = tfidf.fit_transform(dt)"
   ]
  },
  {
   "cell_type": "code",
   "execution_count": 28,
   "metadata": {},
   "outputs": [
    {
     "data": {
      "application/vnd.microsoft.datawrangler.viewer.v0+json": {
       "columns": [
        {
         "name": "index",
         "rawType": "int64",
         "type": "integer"
        },
        {
         "name": "age",
         "rawType": "float64",
         "type": "float"
        },
        {
         "name": "also",
         "rawType": "float64",
         "type": "float"
        },
        {
         "name": "best",
         "rawType": "float64",
         "type": "float"
        },
        {
         "name": "foolishness",
         "rawType": "float64",
         "type": "float"
        },
        {
         "name": "football",
         "rawType": "float64",
         "type": "float"
        },
        {
         "name": "games",
         "rawType": "float64",
         "type": "float"
        },
        {
         "name": "it",
         "rawType": "float64",
         "type": "float"
        },
        {
         "name": "john",
         "rawType": "float64",
         "type": "float"
        },
        {
         "name": "likes",
         "rawType": "float64",
         "type": "float"
        },
        {
         "name": "mary",
         "rawType": "float64",
         "type": "float"
        },
        {
         "name": "movies",
         "rawType": "float64",
         "type": "float"
        },
        {
         "name": "of",
         "rawType": "float64",
         "type": "float"
        },
        {
         "name": "the",
         "rawType": "float64",
         "type": "float"
        },
        {
         "name": "times",
         "rawType": "float64",
         "type": "float"
        },
        {
         "name": "to",
         "rawType": "float64",
         "type": "float"
        },
        {
         "name": "too",
         "rawType": "float64",
         "type": "float"
        },
        {
         "name": "was",
         "rawType": "float64",
         "type": "float"
        },
        {
         "name": "watch",
         "rawType": "float64",
         "type": "float"
        },
        {
         "name": "wisdom",
         "rawType": "float64",
         "type": "float"
        },
        {
         "name": "worst",
         "rawType": "float64",
         "type": "float"
        }
       ],
       "ref": "861dff53-4eb0-4d50-82e0-7038c2d7e94f",
       "rows": [
        [
         "0",
         "0.0",
         "0.0",
         "0.5697798398171743",
         "0.0",
         "0.0",
         "0.0",
         "0.33802710163099925",
         "0.0",
         "0.0",
         "0.0",
         "0.0",
         "0.33802710163099925",
         "0.33802710163099925",
         "0.4672276194636825",
         "0.0",
         "0.0",
         "0.33802710163099925",
         "0.0",
         "0.0",
         "0.0"
        ],
        [
         "1",
         "0.0",
         "0.0",
         "0.0",
         "0.0",
         "0.0",
         "0.0",
         "0.33802710163099925",
         "0.0",
         "0.0",
         "0.0",
         "0.0",
         "0.33802710163099925",
         "0.33802710163099925",
         "0.4672276194636825",
         "0.0",
         "0.0",
         "0.33802710163099925",
         "0.0",
         "0.0",
         "0.5697798398171743"
        ],
        [
         "2",
         "0.4672276194636825",
         "0.0",
         "0.0",
         "0.0",
         "0.0",
         "0.0",
         "0.33802710163099925",
         "0.0",
         "0.0",
         "0.0",
         "0.0",
         "0.33802710163099925",
         "0.33802710163099925",
         "0.0",
         "0.0",
         "0.0",
         "0.33802710163099925",
         "0.0",
         "0.5697798398171743",
         "0.0"
        ],
        [
         "3",
         "0.4672276194636825",
         "0.0",
         "0.0",
         "0.5697798398171743",
         "0.0",
         "0.0",
         "0.33802710163099925",
         "0.0",
         "0.0",
         "0.0",
         "0.0",
         "0.33802710163099925",
         "0.33802710163099925",
         "0.0",
         "0.0",
         "0.0",
         "0.33802710163099925",
         "0.0",
         "0.0",
         "0.0"
        ],
        [
         "4",
         "0.0",
         "0.0",
         "0.0",
         "0.0",
         "0.0",
         "0.0",
         "0.0",
         "0.3056094816118358",
         "0.5012082934518883",
         "0.25060414672594417",
         "0.6112189632236716",
         "0.0",
         "0.0",
         "0.0",
         "0.25060414672594417",
         "0.3056094816118358",
         "0.0",
         "0.25060414672594417",
         "0.0",
         "0.0"
        ],
        [
         "5",
         "0.0",
         "0.4192330869644262",
         "0.0",
         "0.0",
         "0.4192330869644262",
         "0.4192330869644262",
         "0.0",
         "0.0",
         "0.34377712852327513",
         "0.34377712852327513",
         "0.0",
         "0.0",
         "0.0",
         "0.0",
         "0.34377712852327513",
         "0.0",
         "0.0",
         "0.34377712852327513",
         "0.0",
         "0.0"
        ]
       ],
       "shape": {
        "columns": 20,
        "rows": 6
       }
      },
      "text/html": [
       "<div>\n",
       "<style scoped>\n",
       "    .dataframe tbody tr th:only-of-type {\n",
       "        vertical-align: middle;\n",
       "    }\n",
       "\n",
       "    .dataframe tbody tr th {\n",
       "        vertical-align: top;\n",
       "    }\n",
       "\n",
       "    .dataframe thead th {\n",
       "        text-align: right;\n",
       "    }\n",
       "</style>\n",
       "<table border=\"1\" class=\"dataframe tex2jax_ignore\">\n",
       "  <thead>\n",
       "    <tr style=\"text-align: right;\">\n",
       "      <th></th>\n",
       "      <th>age</th>\n",
       "      <th>also</th>\n",
       "      <th>best</th>\n",
       "      <th>foolishness</th>\n",
       "      <th>football</th>\n",
       "      <th>games</th>\n",
       "      <th>it</th>\n",
       "      <th>john</th>\n",
       "      <th>likes</th>\n",
       "      <th>mary</th>\n",
       "      <th>movies</th>\n",
       "      <th>of</th>\n",
       "      <th>the</th>\n",
       "      <th>times</th>\n",
       "      <th>to</th>\n",
       "      <th>too</th>\n",
       "      <th>was</th>\n",
       "      <th>watch</th>\n",
       "      <th>wisdom</th>\n",
       "      <th>worst</th>\n",
       "    </tr>\n",
       "  </thead>\n",
       "  <tbody>\n",
       "    <tr>\n",
       "      <th>0</th>\n",
       "      <td>0.00</td>\n",
       "      <td>0.00</td>\n",
       "      <td>0.57</td>\n",
       "      <td>0.00</td>\n",
       "      <td>0.00</td>\n",
       "      <td>0.00</td>\n",
       "      <td>0.34</td>\n",
       "      <td>0.00</td>\n",
       "      <td>0.00</td>\n",
       "      <td>0.00</td>\n",
       "      <td>0.00</td>\n",
       "      <td>0.34</td>\n",
       "      <td>0.34</td>\n",
       "      <td>0.47</td>\n",
       "      <td>0.00</td>\n",
       "      <td>0.00</td>\n",
       "      <td>0.34</td>\n",
       "      <td>0.00</td>\n",
       "      <td>0.00</td>\n",
       "      <td>0.00</td>\n",
       "    </tr>\n",
       "    <tr>\n",
       "      <th>1</th>\n",
       "      <td>0.00</td>\n",
       "      <td>0.00</td>\n",
       "      <td>0.00</td>\n",
       "      <td>0.00</td>\n",
       "      <td>0.00</td>\n",
       "      <td>0.00</td>\n",
       "      <td>0.34</td>\n",
       "      <td>0.00</td>\n",
       "      <td>0.00</td>\n",
       "      <td>0.00</td>\n",
       "      <td>0.00</td>\n",
       "      <td>0.34</td>\n",
       "      <td>0.34</td>\n",
       "      <td>0.47</td>\n",
       "      <td>0.00</td>\n",
       "      <td>0.00</td>\n",
       "      <td>0.34</td>\n",
       "      <td>0.00</td>\n",
       "      <td>0.00</td>\n",
       "      <td>0.57</td>\n",
       "    </tr>\n",
       "    <tr>\n",
       "      <th>2</th>\n",
       "      <td>0.47</td>\n",
       "      <td>0.00</td>\n",
       "      <td>0.00</td>\n",
       "      <td>0.00</td>\n",
       "      <td>0.00</td>\n",
       "      <td>0.00</td>\n",
       "      <td>0.34</td>\n",
       "      <td>0.00</td>\n",
       "      <td>0.00</td>\n",
       "      <td>0.00</td>\n",
       "      <td>0.00</td>\n",
       "      <td>0.34</td>\n",
       "      <td>0.34</td>\n",
       "      <td>0.00</td>\n",
       "      <td>0.00</td>\n",
       "      <td>0.00</td>\n",
       "      <td>0.34</td>\n",
       "      <td>0.00</td>\n",
       "      <td>0.57</td>\n",
       "      <td>0.00</td>\n",
       "    </tr>\n",
       "    <tr>\n",
       "      <th>3</th>\n",
       "      <td>0.47</td>\n",
       "      <td>0.00</td>\n",
       "      <td>0.00</td>\n",
       "      <td>0.57</td>\n",
       "      <td>0.00</td>\n",
       "      <td>0.00</td>\n",
       "      <td>0.34</td>\n",
       "      <td>0.00</td>\n",
       "      <td>0.00</td>\n",
       "      <td>0.00</td>\n",
       "      <td>0.00</td>\n",
       "      <td>0.34</td>\n",
       "      <td>0.34</td>\n",
       "      <td>0.00</td>\n",
       "      <td>0.00</td>\n",
       "      <td>0.00</td>\n",
       "      <td>0.34</td>\n",
       "      <td>0.00</td>\n",
       "      <td>0.00</td>\n",
       "      <td>0.00</td>\n",
       "    </tr>\n",
       "    <tr>\n",
       "      <th>4</th>\n",
       "      <td>0.00</td>\n",
       "      <td>0.00</td>\n",
       "      <td>0.00</td>\n",
       "      <td>0.00</td>\n",
       "      <td>0.00</td>\n",
       "      <td>0.00</td>\n",
       "      <td>0.00</td>\n",
       "      <td>0.31</td>\n",
       "      <td>0.50</td>\n",
       "      <td>0.25</td>\n",
       "      <td>0.61</td>\n",
       "      <td>0.00</td>\n",
       "      <td>0.00</td>\n",
       "      <td>0.00</td>\n",
       "      <td>0.25</td>\n",
       "      <td>0.31</td>\n",
       "      <td>0.00</td>\n",
       "      <td>0.25</td>\n",
       "      <td>0.00</td>\n",
       "      <td>0.00</td>\n",
       "    </tr>\n",
       "    <tr>\n",
       "      <th>5</th>\n",
       "      <td>0.00</td>\n",
       "      <td>0.42</td>\n",
       "      <td>0.00</td>\n",
       "      <td>0.00</td>\n",
       "      <td>0.42</td>\n",
       "      <td>0.42</td>\n",
       "      <td>0.00</td>\n",
       "      <td>0.00</td>\n",
       "      <td>0.34</td>\n",
       "      <td>0.34</td>\n",
       "      <td>0.00</td>\n",
       "      <td>0.00</td>\n",
       "      <td>0.00</td>\n",
       "      <td>0.00</td>\n",
       "      <td>0.34</td>\n",
       "      <td>0.00</td>\n",
       "      <td>0.00</td>\n",
       "      <td>0.34</td>\n",
       "      <td>0.00</td>\n",
       "      <td>0.00</td>\n",
       "    </tr>\n",
       "  </tbody>\n",
       "</table>\n",
       "</div>"
      ],
      "text/plain": [
       "   age  also  best  foolishness  football  games   it  john  likes  mary  \\\n",
       "0 0.00  0.00  0.57         0.00      0.00   0.00 0.34  0.00   0.00  0.00   \n",
       "1 0.00  0.00  0.00         0.00      0.00   0.00 0.34  0.00   0.00  0.00   \n",
       "2 0.47  0.00  0.00         0.00      0.00   0.00 0.34  0.00   0.00  0.00   \n",
       "3 0.47  0.00  0.00         0.57      0.00   0.00 0.34  0.00   0.00  0.00   \n",
       "4 0.00  0.00  0.00         0.00      0.00   0.00 0.00  0.31   0.50  0.25   \n",
       "5 0.00  0.42  0.00         0.00      0.42   0.42 0.00  0.00   0.34  0.34   \n",
       "\n",
       "   movies   of  the  times   to  too  was  watch  wisdom  worst  \n",
       "0    0.00 0.34 0.34   0.47 0.00 0.00 0.34   0.00    0.00   0.00  \n",
       "1    0.00 0.34 0.34   0.47 0.00 0.00 0.34   0.00    0.00   0.57  \n",
       "2    0.00 0.34 0.34   0.00 0.00 0.00 0.34   0.00    0.57   0.00  \n",
       "3    0.00 0.34 0.34   0.00 0.00 0.00 0.34   0.00    0.00   0.00  \n",
       "4    0.61 0.00 0.00   0.00 0.25 0.31 0.00   0.25    0.00   0.00  \n",
       "5    0.00 0.00 0.00   0.00 0.34 0.00 0.00   0.34    0.00   0.00  "
      ]
     },
     "execution_count": 28,
     "metadata": {},
     "output_type": "execute_result"
    }
   ],
   "source": [
    "pd.DataFrame(tfidf_dt.toarray(), columns=cv.get_feature_names_out())"
   ]
  },
  {
   "cell_type": "code",
   "execution_count": 29,
   "metadata": {},
   "outputs": [
    {
     "data": {
      "application/vnd.microsoft.datawrangler.viewer.v0+json": {
       "columns": [
        {
         "name": "index",
         "rawType": "int64",
         "type": "integer"
        },
        {
         "name": "0",
         "rawType": "float64",
         "type": "float"
        },
        {
         "name": "1",
         "rawType": "float64",
         "type": "float"
        },
        {
         "name": "2",
         "rawType": "float64",
         "type": "float"
        },
        {
         "name": "3",
         "rawType": "float64",
         "type": "float"
        },
        {
         "name": "4",
         "rawType": "float64",
         "type": "float"
        },
        {
         "name": "5",
         "rawType": "float64",
         "type": "float"
        }
       ],
       "ref": "390e83ea-fea5-4697-b47d-c2675b59e233",
       "rows": [
        [
         "0",
         "1.0000000000000002",
         "0.6753509341379154",
         "0.4570492857482156",
         "0.4570492857482156",
         "0.0",
         "0.0"
        ],
        [
         "1",
         "0.6753509341379154",
         "1.0000000000000002",
         "0.4570492857482156",
         "0.4570492857482156",
         "0.0",
         "0.0"
        ],
        [
         "2",
         "0.4570492857482156",
         "0.4570492857482156",
         "1.0000000000000002",
         "0.6753509341379154",
         "0.0",
         "0.0"
        ],
        [
         "3",
         "0.4570492857482156",
         "0.4570492857482156",
         "0.6753509341379154",
         "1.0000000000000002",
         "0.0",
         "0.0"
        ],
        [
         "4",
         "0.0",
         "0.0",
         "0.0",
         "0.0",
         "1.0000000000000004",
         "0.43075986978735314"
        ],
        [
         "5",
         "0.0",
         "0.0",
         "0.0",
         "0.0",
         "0.43075986978735314",
         "1.0000000000000002"
        ]
       ],
       "shape": {
        "columns": 6,
        "rows": 6
       }
      },
      "text/html": [
       "<div>\n",
       "<style scoped>\n",
       "    .dataframe tbody tr th:only-of-type {\n",
       "        vertical-align: middle;\n",
       "    }\n",
       "\n",
       "    .dataframe tbody tr th {\n",
       "        vertical-align: top;\n",
       "    }\n",
       "\n",
       "    .dataframe thead th {\n",
       "        text-align: right;\n",
       "    }\n",
       "</style>\n",
       "<table border=\"1\" class=\"dataframe tex2jax_ignore\">\n",
       "  <thead>\n",
       "    <tr style=\"text-align: right;\">\n",
       "      <th></th>\n",
       "      <th>0</th>\n",
       "      <th>1</th>\n",
       "      <th>2</th>\n",
       "      <th>3</th>\n",
       "      <th>4</th>\n",
       "      <th>5</th>\n",
       "    </tr>\n",
       "  </thead>\n",
       "  <tbody>\n",
       "    <tr>\n",
       "      <th>0</th>\n",
       "      <td>1.00</td>\n",
       "      <td>0.68</td>\n",
       "      <td>0.46</td>\n",
       "      <td>0.46</td>\n",
       "      <td>0.00</td>\n",
       "      <td>0.00</td>\n",
       "    </tr>\n",
       "    <tr>\n",
       "      <th>1</th>\n",
       "      <td>0.68</td>\n",
       "      <td>1.00</td>\n",
       "      <td>0.46</td>\n",
       "      <td>0.46</td>\n",
       "      <td>0.00</td>\n",
       "      <td>0.00</td>\n",
       "    </tr>\n",
       "    <tr>\n",
       "      <th>2</th>\n",
       "      <td>0.46</td>\n",
       "      <td>0.46</td>\n",
       "      <td>1.00</td>\n",
       "      <td>0.68</td>\n",
       "      <td>0.00</td>\n",
       "      <td>0.00</td>\n",
       "    </tr>\n",
       "    <tr>\n",
       "      <th>3</th>\n",
       "      <td>0.46</td>\n",
       "      <td>0.46</td>\n",
       "      <td>0.68</td>\n",
       "      <td>1.00</td>\n",
       "      <td>0.00</td>\n",
       "      <td>0.00</td>\n",
       "    </tr>\n",
       "    <tr>\n",
       "      <th>4</th>\n",
       "      <td>0.00</td>\n",
       "      <td>0.00</td>\n",
       "      <td>0.00</td>\n",
       "      <td>0.00</td>\n",
       "      <td>1.00</td>\n",
       "      <td>0.43</td>\n",
       "    </tr>\n",
       "    <tr>\n",
       "      <th>5</th>\n",
       "      <td>0.00</td>\n",
       "      <td>0.00</td>\n",
       "      <td>0.00</td>\n",
       "      <td>0.00</td>\n",
       "      <td>0.43</td>\n",
       "      <td>1.00</td>\n",
       "    </tr>\n",
       "  </tbody>\n",
       "</table>\n",
       "</div>"
      ],
      "text/plain": [
       "     0    1    2    3    4    5\n",
       "0 1.00 0.68 0.46 0.46 0.00 0.00\n",
       "1 0.68 1.00 0.46 0.46 0.00 0.00\n",
       "2 0.46 0.46 1.00 0.68 0.00 0.00\n",
       "3 0.46 0.46 0.68 1.00 0.00 0.00\n",
       "4 0.00 0.00 0.00 0.00 1.00 0.43\n",
       "5 0.00 0.00 0.00 0.00 0.43 1.00"
      ]
     },
     "execution_count": 29,
     "metadata": {},
     "output_type": "execute_result"
    }
   ],
   "source": [
    "pd.DataFrame(cosine_similarity(tfidf_dt, tfidf_dt))"
   ]
  },
  {
   "cell_type": "code",
   "execution_count": 30,
   "metadata": {},
   "outputs": [
    {
     "data": {
      "application/vnd.microsoft.datawrangler.viewer.v0+json": {
       "columns": [
        {
         "name": "index",
         "rawType": "int64",
         "type": "integer"
        },
        {
         "name": "Fecha",
         "rawType": "datetime64[ns]",
         "type": "datetime"
        },
        {
         "name": "Texto",
         "rawType": "object",
         "type": "string"
        }
       ],
       "ref": "75959ba1-ce8b-459a-bba0-d987bb7864df",
       "rows": [
        [
         "0",
         "1906-08-02 00:00:00",
         "SOCIEDAD HIJOS DE ANCASH - Anteanoche tuvo lugar una reunión de estudiantes ancashinos residentes en esta capital, con el objeto de propender al desarrollo de los intereses del departamento de Ancash, excluyendo en lo absoluto toda propaganda de índole política. La iniciativa de esta reunión, secundada con entusiasmo, se debe a los señores Darío A. Izaguirre, Gamaniel D. Ramos y Alejandro A. Sotelo, que formaban la junta directiva momentánea. Por una buena mayoría, se acordó que la sociedad se llamará Hijos de Ancash. La concurrencia se componía de estudiantes de nuestras diversas facultades de jurisprudencia, letras, ciencias, medicina, etc., así como de alumnos de las escuelas de ingenieros, de agricultura, militar de Chorrillos, normal de varones, etc. Se acordó llamar al seno de la sociedad a los demás Ancashinos residentes en Lima. Después de haberse designado la junta directiva, se acordó convocar a una segunda reunión, tan luego como quede expedito el proyecto de reglamento encargado a los tres iniciadores de esta sociedad y al señor Alejandro Romero. El total de estudiantes ancashinos residentes en Lima asciende a 60."
        ],
        [
         "1",
         "1906-08-12 00:00:00",
         "SOCIEDAD HIJOS DE ANCASH - A las dos de la tarde de hoy celebrará sesión esta sociedad, en el local de la calle del Tigre, número 173, con el objeto de ocuparse de la incorporación de los Ancashinos que han sido llamados, y para discutir sobre el proyecto de reglamento."
        ],
        [
         "2",
         "1906-09-15 00:00:00",
         "SOCIEDAD HIJOS DE ANCASH - El día de mañana domingo, a las 2 de la tarde, celebrará sesión esta sociedad en el local de la calle del Tigre número 173."
        ],
        [
         "3",
         "1906-10-14 00:00:00",
         "SOCIEDAD HIJOS DE ANCASH - Hoy a las 3 de la tarde celebrará esta sociedad sesión de junta general, en la casa número 137 de la calle del Tigre."
        ],
        [
         "4",
         "1906-10-28 00:00:00",
         "HIJOS DE ANCASH - Mañana a las dos de la tarde, celebrará sesión de junta general la sociedad de este nombre, en el local de la calle del Tigre número 173."
        ]
       ],
       "shape": {
        "columns": 2,
        "rows": 5
       }
      },
      "text/html": [
       "<div>\n",
       "<style scoped>\n",
       "    .dataframe tbody tr th:only-of-type {\n",
       "        vertical-align: middle;\n",
       "    }\n",
       "\n",
       "    .dataframe tbody tr th {\n",
       "        vertical-align: top;\n",
       "    }\n",
       "\n",
       "    .dataframe thead th {\n",
       "        text-align: right;\n",
       "    }\n",
       "</style>\n",
       "<table border=\"1\" class=\"dataframe tex2jax_ignore\">\n",
       "  <thead>\n",
       "    <tr style=\"text-align: right;\">\n",
       "      <th></th>\n",
       "      <th>Fecha</th>\n",
       "      <th>Texto</th>\n",
       "    </tr>\n",
       "  </thead>\n",
       "  <tbody>\n",
       "    <tr>\n",
       "      <th>0</th>\n",
       "      <td>1906-08-02</td>\n",
       "      <td>SOCIEDAD HIJOS DE ANCASH - Anteanoche tuvo lugar una reunión de estudiantes ancashinos residentes en esta capital, con el objeto de propender al desarrollo de los intereses del departamento de Anc...</td>\n",
       "    </tr>\n",
       "    <tr>\n",
       "      <th>1</th>\n",
       "      <td>1906-08-12</td>\n",
       "      <td>SOCIEDAD HIJOS DE ANCASH - A las dos de la tarde de hoy celebrará sesión esta sociedad, en el local de la calle del Tigre, número 173, con el objeto de ocuparse de la incorporación de los Ancashin...</td>\n",
       "    </tr>\n",
       "    <tr>\n",
       "      <th>2</th>\n",
       "      <td>1906-09-15</td>\n",
       "      <td>SOCIEDAD HIJOS DE ANCASH - El día de mañana domingo, a las 2 de la tarde, celebrará sesión esta sociedad en el local de la calle del Tigre número 173.</td>\n",
       "    </tr>\n",
       "    <tr>\n",
       "      <th>3</th>\n",
       "      <td>1906-10-14</td>\n",
       "      <td>SOCIEDAD HIJOS DE ANCASH - Hoy a las 3 de la tarde celebrará esta sociedad sesión de junta general, en la casa número 137 de la calle del Tigre.</td>\n",
       "    </tr>\n",
       "    <tr>\n",
       "      <th>4</th>\n",
       "      <td>1906-10-28</td>\n",
       "      <td>HIJOS DE ANCASH - Mañana a las dos de la tarde, celebrará sesión de junta general la sociedad de este nombre, en el local de la calle del Tigre número 173.</td>\n",
       "    </tr>\n",
       "  </tbody>\n",
       "</table>\n",
       "</div>"
      ],
      "text/plain": [
       "       Fecha  \\\n",
       "0 1906-08-02   \n",
       "1 1906-08-12   \n",
       "2 1906-09-15   \n",
       "3 1906-10-14   \n",
       "4 1906-10-28   \n",
       "\n",
       "                                                                                                                                                                                                     Texto  \n",
       "0  SOCIEDAD HIJOS DE ANCASH - Anteanoche tuvo lugar una reunión de estudiantes ancashinos residentes en esta capital, con el objeto de propender al desarrollo de los intereses del departamento de Anc...  \n",
       "1  SOCIEDAD HIJOS DE ANCASH - A las dos de la tarde de hoy celebrará sesión esta sociedad, en el local de la calle del Tigre, número 173, con el objeto de ocuparse de la incorporación de los Ancashin...  \n",
       "2                                                   SOCIEDAD HIJOS DE ANCASH - El día de mañana domingo, a las 2 de la tarde, celebrará sesión esta sociedad en el local de la calle del Tigre número 173.  \n",
       "3                                                         SOCIEDAD HIJOS DE ANCASH - Hoy a las 3 de la tarde celebrará esta sociedad sesión de junta general, en la casa número 137 de la calle del Tigre.  \n",
       "4                                              HIJOS DE ANCASH - Mañana a las dos de la tarde, celebrará sesión de junta general la sociedad de este nombre, en el local de la calle del Tigre número 173.  "
      ]
     },
     "execution_count": 30,
     "metadata": {},
     "output_type": "execute_result"
    }
   ],
   "source": [
    "file = \"datos/lima-andina-articulos-texto-fecha.csv\"\n",
    "anuncios = pd.read_csv(file, parse_dates=[\"Fecha\"])\n",
    "anuncios.head()\n"
   ]
  },
  {
   "cell_type": "code",
   "execution_count": 31,
   "metadata": {},
   "outputs": [
    {
     "data": {
      "application/vnd.microsoft.datawrangler.viewer.v0+json": {
       "columns": [
        {
         "name": "index",
         "rawType": "int64",
         "type": "integer"
        },
        {
         "name": "Fecha",
         "rawType": "datetime64[ns]",
         "type": "datetime"
        },
        {
         "name": "Texto",
         "rawType": "object",
         "type": "string"
        }
       ],
       "ref": "04f27cc9-1759-4c60-a041-9f899cd1d1a2",
       "rows": [
        [
         "0",
         "1906-08-02 00:00:00",
         "SOCIEDAD HIJOS DE ANCASH - Anteanoche tuvo lugar una reunión de estudiantes ancashinos residentes en esta capital, con el objeto de propender al desarrollo de los intereses del departamento de Ancash, excluyendo en lo absoluto toda propaganda de índole política. La iniciativa de esta reunión, secundada con entusiasmo, se debe a los señores Darío A. Izaguirre, Gamaniel D. Ramos y Alejandro A. Sotelo, que formaban la junta directiva momentánea. Por una buena mayoría, se acordó que la sociedad se llamará Hijos de Ancash. La concurrencia se componía de estudiantes de nuestras diversas facultades de jurisprudencia, letras, ciencias, medicina, etc., así como de alumnos de las escuelas de ingenieros, de agricultura, militar de Chorrillos, normal de varones, etc. Se acordó llamar al seno de la sociedad a los demás Ancashinos residentes en Lima. Después de haberse designado la junta directiva, se acordó convocar a una segunda reunión, tan luego como quede expedito el proyecto de reglamento encargado a los tres iniciadores de esta sociedad y al señor Alejandro Romero. El total de estudiantes ancashinos residentes en Lima asciende a 60."
        ],
        [
         "1",
         "1906-08-12 00:00:00",
         "SOCIEDAD HIJOS DE ANCASH - A las dos de la tarde de hoy celebrará sesión esta sociedad, en el local de la calle del Tigre, número 173, con el objeto de ocuparse de la incorporación de los Ancashinos que han sido llamados, y para discutir sobre el proyecto de reglamento."
        ],
        [
         "2",
         "1906-09-15 00:00:00",
         "SOCIEDAD HIJOS DE ANCASH - El día de mañana domingo, a las 2 de la tarde, celebrará sesión esta sociedad en el local de la calle del Tigre número 173."
        ],
        [
         "3",
         "1906-10-14 00:00:00",
         "SOCIEDAD HIJOS DE ANCASH - Hoy a las 3 de la tarde celebrará esta sociedad sesión de junta general, en la casa número 137 de la calle del Tigre."
        ],
        [
         "4",
         "1906-10-28 00:00:00",
         "HIJOS DE ANCASH - Mañana a las dos de la tarde, celebrará sesión de junta general la sociedad de este nombre, en el local de la calle del Tigre número 173."
        ]
       ],
       "shape": {
        "columns": 2,
        "rows": 5
       }
      },
      "text/html": [
       "<div>\n",
       "<style scoped>\n",
       "    .dataframe tbody tr th:only-of-type {\n",
       "        vertical-align: middle;\n",
       "    }\n",
       "\n",
       "    .dataframe tbody tr th {\n",
       "        vertical-align: top;\n",
       "    }\n",
       "\n",
       "    .dataframe thead th {\n",
       "        text-align: right;\n",
       "    }\n",
       "</style>\n",
       "<table border=\"1\" class=\"dataframe tex2jax_ignore\">\n",
       "  <thead>\n",
       "    <tr style=\"text-align: right;\">\n",
       "      <th></th>\n",
       "      <th>Fecha</th>\n",
       "      <th>Texto</th>\n",
       "    </tr>\n",
       "  </thead>\n",
       "  <tbody>\n",
       "    <tr>\n",
       "      <th>0</th>\n",
       "      <td>1906-08-02</td>\n",
       "      <td>SOCIEDAD HIJOS DE ANCASH - Anteanoche tuvo lugar una reunión de estudiantes ancashinos residentes en esta capital, con el objeto de propender al desarrollo de los intereses del departamento de Anc...</td>\n",
       "    </tr>\n",
       "    <tr>\n",
       "      <th>1</th>\n",
       "      <td>1906-08-12</td>\n",
       "      <td>SOCIEDAD HIJOS DE ANCASH - A las dos de la tarde de hoy celebrará sesión esta sociedad, en el local de la calle del Tigre, número 173, con el objeto de ocuparse de la incorporación de los Ancashin...</td>\n",
       "    </tr>\n",
       "    <tr>\n",
       "      <th>2</th>\n",
       "      <td>1906-09-15</td>\n",
       "      <td>SOCIEDAD HIJOS DE ANCASH - El día de mañana domingo, a las 2 de la tarde, celebrará sesión esta sociedad en el local de la calle del Tigre número 173.</td>\n",
       "    </tr>\n",
       "    <tr>\n",
       "      <th>3</th>\n",
       "      <td>1906-10-14</td>\n",
       "      <td>SOCIEDAD HIJOS DE ANCASH - Hoy a las 3 de la tarde celebrará esta sociedad sesión de junta general, en la casa número 137 de la calle del Tigre.</td>\n",
       "    </tr>\n",
       "    <tr>\n",
       "      <th>4</th>\n",
       "      <td>1906-10-28</td>\n",
       "      <td>HIJOS DE ANCASH - Mañana a las dos de la tarde, celebrará sesión de junta general la sociedad de este nombre, en el local de la calle del Tigre número 173.</td>\n",
       "    </tr>\n",
       "  </tbody>\n",
       "</table>\n",
       "</div>"
      ],
      "text/plain": [
       "       Fecha  \\\n",
       "0 1906-08-02   \n",
       "1 1906-08-12   \n",
       "2 1906-09-15   \n",
       "3 1906-10-14   \n",
       "4 1906-10-28   \n",
       "\n",
       "                                                                                                                                                                                                     Texto  \n",
       "0  SOCIEDAD HIJOS DE ANCASH - Anteanoche tuvo lugar una reunión de estudiantes ancashinos residentes en esta capital, con el objeto de propender al desarrollo de los intereses del departamento de Anc...  \n",
       "1  SOCIEDAD HIJOS DE ANCASH - A las dos de la tarde de hoy celebrará sesión esta sociedad, en el local de la calle del Tigre, número 173, con el objeto de ocuparse de la incorporación de los Ancashin...  \n",
       "2                                                   SOCIEDAD HIJOS DE ANCASH - El día de mañana domingo, a las 2 de la tarde, celebrará sesión esta sociedad en el local de la calle del Tigre número 173.  \n",
       "3                                                         SOCIEDAD HIJOS DE ANCASH - Hoy a las 3 de la tarde celebrará esta sociedad sesión de junta general, en la casa número 137 de la calle del Tigre.  \n",
       "4                                              HIJOS DE ANCASH - Mañana a las dos de la tarde, celebrará sesión de junta general la sociedad de este nombre, en el local de la calle del Tigre número 173.  "
      ]
     },
     "execution_count": 31,
     "metadata": {},
     "output_type": "execute_result"
    }
   ],
   "source": [
    "anuncios['Texto'].fillna('unkown', inplace=True)\n",
    "anuncios.head()"
   ]
  },
  {
   "cell_type": "code",
   "execution_count": 32,
   "metadata": {},
   "outputs": [],
   "source": [
    "from sklearn.feature_extraction.text import TfidfVectorizer\n",
    "tfidf = TfidfVectorizer()\n",
    "dt = tfidf.fit_transform(anuncios[\"Texto\"])"
   ]
  },
  {
   "cell_type": "code",
   "execution_count": 33,
   "metadata": {},
   "outputs": [
    {
     "data": {
      "text/plain": [
       "<Compressed Sparse Row sparse matrix of dtype 'float64'\n",
       "\twith 228634 stored elements and shape (6575, 14165)>"
      ]
     },
     "execution_count": 33,
     "metadata": {},
     "output_type": "execute_result"
    }
   ],
   "source": [
    "dt"
   ]
  },
  {
   "cell_type": "code",
   "execution_count": 34,
   "metadata": {},
   "outputs": [
    {
     "data": {
      "text/plain": [
       "1829072"
      ]
     },
     "execution_count": 34,
     "metadata": {},
     "output_type": "execute_result"
    }
   ],
   "source": [
    "dt.data.nbytes"
   ]
  },
  {
   "cell_type": "code",
   "execution_count": 35,
   "metadata": {},
   "outputs": [
    {
     "name": "stdout",
     "output_type": "stream",
     "text": [
      "CPU times: user 1.12 s, sys: 258 ms, total: 1.38 s\n",
      "Wall time: 1.42 s\n"
     ]
    },
    {
     "data": {
      "text/plain": [
       "array([[1.        , 0.31114423, 0.25800858, ..., 0.11339386, 0.19595568,\n",
       "        0.15608257],\n",
       "       [0.31114423, 1.        , 0.5417709 , ..., 0.1672854 , 0.19733392,\n",
       "        0.12933128],\n",
       "       [0.25800858, 0.5417709 , 1.        , ..., 0.26003889, 0.23261051,\n",
       "        0.1618944 ],\n",
       "       ...,\n",
       "       [0.11339386, 0.1672854 , 0.26003889, ..., 1.        , 0.21845166,\n",
       "        0.08319015],\n",
       "       [0.19595568, 0.19733392, 0.23261051, ..., 0.21845166, 1.        ,\n",
       "        0.14464607],\n",
       "       [0.15608257, 0.12933128, 0.1618944 , ..., 0.08319015, 0.14464607,\n",
       "        1.        ]], shape=(6575, 6575))"
      ]
     },
     "execution_count": 35,
     "metadata": {},
     "output_type": "execute_result"
    }
   ],
   "source": [
    "%%time\n",
    "cosine_similarity(dt[0:10000], dt[0:10000])"
   ]
  },
  {
   "cell_type": "markdown",
   "metadata": {},
   "source": [
    "## Stopwords"
   ]
  },
  {
   "cell_type": "code",
   "execution_count": 36,
   "metadata": {},
   "outputs": [
    {
     "name": "stdout",
     "output_type": "stream",
     "text": [
      "521\n"
     ]
    },
    {
     "data": {
      "text/plain": [
       "<Compressed Sparse Row sparse matrix of dtype 'float64'\n",
       "\twith 155397 stored elements and shape (6575, 13769)>"
      ]
     },
     "execution_count": 36,
     "metadata": {},
     "output_type": "execute_result"
    }
   ],
   "source": [
    "from spacy.lang.es.stop_words import STOP_WORDS as stopwords\n",
    "print(len(stopwords))\n",
    "tfidf = TfidfVectorizer(stop_words=list(stopwords))\n",
    "dt = tfidf.fit_transform(anuncios[\"Texto\"])\n",
    "dt"
   ]
  },
  {
   "cell_type": "markdown",
   "metadata": {},
   "source": [
    "## min_df"
   ]
  },
  {
   "cell_type": "code",
   "execution_count": 37,
   "metadata": {},
   "outputs": [
    {
     "data": {
      "text/plain": [
       "<Compressed Sparse Row sparse matrix of dtype 'float64'\n",
       "\twith 148877 stored elements and shape (6575, 7249)>"
      ]
     },
     "execution_count": 37,
     "metadata": {},
     "output_type": "execute_result"
    }
   ],
   "source": [
    "tfidf = TfidfVectorizer(stop_words=list(stopwords), min_df=2)\n",
    "dt = tfidf.fit_transform(anuncios[\"Texto\"])\n",
    "dt"
   ]
  },
  {
   "cell_type": "code",
   "execution_count": 38,
   "metadata": {},
   "outputs": [
    {
     "data": {
      "text/plain": [
       "<Compressed Sparse Row sparse matrix of dtype 'float64'\n",
       "\twith 155397 stored elements and shape (6575, 13769)>"
      ]
     },
     "execution_count": 38,
     "metadata": {},
     "output_type": "execute_result"
    }
   ],
   "source": [
    "tfidf = TfidfVectorizer(stop_words=list(stopwords), min_df=.0001)\n",
    "dt = tfidf.fit_transform(anuncios[\"Texto\"])\n",
    "dt"
   ]
  },
  {
   "cell_type": "markdown",
   "metadata": {},
   "source": [
    "## max_df"
   ]
  },
  {
   "cell_type": "code",
   "execution_count": 39,
   "metadata": {},
   "outputs": [
    {
     "data": {
      "text/plain": [
       "<Compressed Sparse Row sparse matrix of dtype 'float64'\n",
       "\twith 112885 stored elements and shape (6575, 13740)>"
      ]
     },
     "execution_count": 39,
     "metadata": {},
     "output_type": "execute_result"
    }
   ],
   "source": [
    "tfidf = TfidfVectorizer(stop_words=list(stopwords), max_df=0.1)\n",
    "dt = tfidf.fit_transform(anuncios[\"Texto\"])\n",
    "dt"
   ]
  },
  {
   "cell_type": "code",
   "execution_count": 40,
   "metadata": {},
   "outputs": [
    {
     "data": {
      "text/plain": [
       "<Compressed Sparse Row sparse matrix of dtype 'float64'\n",
       "\twith 128192 stored elements and shape (6575, 14113)>"
      ]
     },
     "execution_count": 40,
     "metadata": {},
     "output_type": "execute_result"
    }
   ],
   "source": [
    "tfidf = TfidfVectorizer(max_df=0.1)\n",
    "dt = tfidf.fit_transform(anuncios[\"Texto\"])\n",
    "dt"
   ]
  },
  {
   "cell_type": "markdown",
   "metadata": {},
   "source": [
    "## n-grams"
   ]
  },
  {
   "cell_type": "code",
   "execution_count": 41,
   "metadata": {},
   "outputs": [
    {
     "name": "stdout",
     "output_type": "stream",
     "text": [
      "(6575, 22001)\n",
      "2023832\n",
      "(6575, 34885)\n",
      "2542520\n"
     ]
    }
   ],
   "source": [
    "tfidf = TfidfVectorizer(stop_words=list(stopwords), ngram_range=(1,2), min_df=2)\n",
    "dt = tfidf.fit_transform(anuncios[\"Texto\"])\n",
    "print(dt.shape)\n",
    "print(dt.data.nbytes)\n",
    "tfidf = TfidfVectorizer(stop_words=list(stopwords), ngram_range=(1,3), min_df=2)\n",
    "dt = tfidf.fit_transform(anuncios[\"Texto\"])\n",
    "print(dt.shape)\n",
    "print(dt.data.nbytes)"
   ]
  },
  {
   "cell_type": "markdown",
   "metadata": {},
   "source": [
    "## Lemmas"
   ]
  },
  {
   "cell_type": "code",
   "execution_count": 42,
   "metadata": {},
   "outputs": [
    {
     "name": "stderr",
     "output_type": "stream",
     "text": [
      "100%|██████████| 6575/6575 [01:20<00:00, 81.33it/s] \n"
     ]
    }
   ],
   "source": [
    "from tqdm.auto import tqdm\n",
    "import spacy\n",
    "nlp = spacy.load(\"es_core_news_sm\")\n",
    "nouns_adjectives_verbs = [\"NOUN\", \"PROPN\", \"ADJ\", \"ADV\", \"VERB\"]\n",
    "for i, row in tqdm(anuncios.iterrows(), total=len(anuncios)):\n",
    "    doc = nlp(str(row[\"Texto\"]))\n",
    "    anuncios.at[i, \"lemmas\"] = \" \".join([token.lemma_ for token in doc])\n",
    "    anuncios.at[i, \"nav\"] = \" \".join([token.lemma_ for token in doc if token.pos_ in nouns_adjectives_verbs])"
   ]
  },
  {
   "cell_type": "code",
   "execution_count": 43,
   "metadata": {},
   "outputs": [
    {
     "data": {
      "application/vnd.microsoft.datawrangler.viewer.v0+json": {
       "columns": [
        {
         "name": "index",
         "rawType": "int64",
         "type": "integer"
        },
        {
         "name": "Fecha",
         "rawType": "datetime64[ns]",
         "type": "datetime"
        },
        {
         "name": "Texto",
         "rawType": "object",
         "type": "string"
        },
        {
         "name": "lemmas",
         "rawType": "object",
         "type": "string"
        },
        {
         "name": "nav",
         "rawType": "object",
         "type": "string"
        }
       ],
       "ref": "7a0d14fc-4231-4ee0-9e20-8800cade5810",
       "rows": [
        [
         "0",
         "1906-08-02 00:00:00",
         "SOCIEDAD HIJOS DE ANCASH - Anteanoche tuvo lugar una reunión de estudiantes ancashinos residentes en esta capital, con el objeto de propender al desarrollo de los intereses del departamento de Ancash, excluyendo en lo absoluto toda propaganda de índole política. La iniciativa de esta reunión, secundada con entusiasmo, se debe a los señores Darío A. Izaguirre, Gamaniel D. Ramos y Alejandro A. Sotelo, que formaban la junta directiva momentánea. Por una buena mayoría, se acordó que la sociedad se llamará Hijos de Ancash. La concurrencia se componía de estudiantes de nuestras diversas facultades de jurisprudencia, letras, ciencias, medicina, etc., así como de alumnos de las escuelas de ingenieros, de agricultura, militar de Chorrillos, normal de varones, etc. Se acordó llamar al seno de la sociedad a los demás Ancashinos residentes en Lima. Después de haberse designado la junta directiva, se acordó convocar a una segunda reunión, tan luego como quede expedito el proyecto de reglamento encargado a los tres iniciadores de esta sociedad y al señor Alejandro Romero. El total de estudiantes ancashinos residentes en Lima asciende a 60.",
         "sociedad hijo DE ANCASH - Anteanoche tener lugar uno reunión de estudiante ancashino residente en este capital , con el objeto de propender al desarrollo de el interés del departamento de Ancash , excluir en él absoluto todo propaganda de índole político . el iniciativa de este reunión , secundado con entusiasmo , él deber a el señor Darío A. Izaguirre , Gamaniel D. Ramos y Alejandro A. Sotelo , que formar el junta directivo momentáneo . por uno buen mayoría , él acordar que el sociedad él llamar Hijos de Ancash . el concurrencia él componer de estudiante de nuestro diverso facultad de jurisprudencia , letra , ciencia , medicina , etc. , así como de alumno de el escuela de ingeniero , de agricultura , militar de Chorrillos , normal de varón , etc. él acordar llamar al seno de el sociedad a el demá ancashino residente en Lima . después de haber él designar el junta directivo , él acordar convocar a uno segundo reunión , tanto luego como quedar expedito el proyecto de reglamento encargado a el tres iniciador de este sociedad y al señor Alejandro Romero . el total de estudiante ancashino residente en Lima ascender a 60 .",
         "sociedad hijo ANCASH Anteanoche tener lugar reunión estudiante ancashino residente capital objeto propender desarrollo interés departamento Ancash excluir absoluto propaganda índole político iniciativa reunión secundado entusiasmo deber señor Darío A. Izaguirre Gamaniel D. Ramos Alejandro A. Sotelo formar junta directivo momentáneo buen mayoría acordar sociedad llamar Hijos Ancash concurrencia componer estudiante facultad jurisprudencia letra ciencia medicina etc. así alumno escuela ingeniero agricultura militar Chorrillos normal varón acordar llamar seno sociedad ancashino residente Lima después designar junta directivo acordar convocar segundo reunión tanto luego quedar expedito proyecto reglamento encargado iniciador sociedad señor Alejandro Romero total estudiante ancashino residente Lima ascender"
        ],
        [
         "1",
         "1906-08-12 00:00:00",
         "SOCIEDAD HIJOS DE ANCASH - A las dos de la tarde de hoy celebrará sesión esta sociedad, en el local de la calle del Tigre, número 173, con el objeto de ocuparse de la incorporación de los Ancashinos que han sido llamados, y para discutir sobre el proyecto de reglamento.",
         "sociedad hijo DE ANCASH - A el dos de el tarde de hoy celebrar sesión este sociedad , en el local de el calle del Tigre , número 173 , con el objeto de ocupar él de el incorporación de el Ancashinos que haber ser llamar , y para discutir sobre el proyecto de reglamento .",
         "sociedad hijo ANCASH tarde hoy celebrar sesión sociedad local calle Tigre número objeto ocupar él incorporación Ancashinos llamar discutir proyecto reglamento"
        ],
        [
         "2",
         "1906-09-15 00:00:00",
         "SOCIEDAD HIJOS DE ANCASH - El día de mañana domingo, a las 2 de la tarde, celebrará sesión esta sociedad en el local de la calle del Tigre número 173.",
         "sociedad hijo DE ANCASH - el día de mañana domingo , a el 2 de el tarde , celebrar sesión este sociedad en el local de el calle del Tigre número 173 .",
         "sociedad hijo ANCASH día mañana domingo tarde celebrar sesión sociedad local calle Tigre número"
        ],
        [
         "3",
         "1906-10-14 00:00:00",
         "SOCIEDAD HIJOS DE ANCASH - Hoy a las 3 de la tarde celebrará esta sociedad sesión de junta general, en la casa número 137 de la calle del Tigre.",
         "sociedad hijo DE ANCASH - hoy a el 3 de el tarde celebrar este sociedad sesión de junta general , en el casa número 137 de el calle del Tigre .",
         "sociedad hijo ANCASH hoy tarde celebrar sociedad sesión junta general casa número calle Tigre"
        ],
        [
         "4",
         "1906-10-28 00:00:00",
         "HIJOS DE ANCASH - Mañana a las dos de la tarde, celebrará sesión de junta general la sociedad de este nombre, en el local de la calle del Tigre número 173.",
         "hijo DE ANCASH - mañana a el dos de el tarde , celebrar sesión de junta general el sociedad de este nombre , en el local de el calle del Tigre número 173 .",
         "hijo ANCASH mañana tarde celebrar sesión junta general sociedad nombre local calle Tigre número"
        ]
       ],
       "shape": {
        "columns": 4,
        "rows": 5
       }
      },
      "text/html": [
       "<div>\n",
       "<style scoped>\n",
       "    .dataframe tbody tr th:only-of-type {\n",
       "        vertical-align: middle;\n",
       "    }\n",
       "\n",
       "    .dataframe tbody tr th {\n",
       "        vertical-align: top;\n",
       "    }\n",
       "\n",
       "    .dataframe thead th {\n",
       "        text-align: right;\n",
       "    }\n",
       "</style>\n",
       "<table border=\"1\" class=\"dataframe tex2jax_ignore\">\n",
       "  <thead>\n",
       "    <tr style=\"text-align: right;\">\n",
       "      <th></th>\n",
       "      <th>Fecha</th>\n",
       "      <th>Texto</th>\n",
       "      <th>lemmas</th>\n",
       "      <th>nav</th>\n",
       "    </tr>\n",
       "  </thead>\n",
       "  <tbody>\n",
       "    <tr>\n",
       "      <th>0</th>\n",
       "      <td>1906-08-02</td>\n",
       "      <td>SOCIEDAD HIJOS DE ANCASH - Anteanoche tuvo lugar una reunión de estudiantes ancashinos residentes en esta capital, con el objeto de propender al desarrollo de los intereses del departamento de Anc...</td>\n",
       "      <td>sociedad hijo DE ANCASH - Anteanoche tener lugar uno reunión de estudiante ancashino residente en este capital , con el objeto de propender al desarrollo de el interés del departamento de Ancash ,...</td>\n",
       "      <td>sociedad hijo ANCASH Anteanoche tener lugar reunión estudiante ancashino residente capital objeto propender desarrollo interés departamento Ancash excluir absoluto propaganda índole político inici...</td>\n",
       "    </tr>\n",
       "    <tr>\n",
       "      <th>1</th>\n",
       "      <td>1906-08-12</td>\n",
       "      <td>SOCIEDAD HIJOS DE ANCASH - A las dos de la tarde de hoy celebrará sesión esta sociedad, en el local de la calle del Tigre, número 173, con el objeto de ocuparse de la incorporación de los Ancashin...</td>\n",
       "      <td>sociedad hijo DE ANCASH - A el dos de el tarde de hoy celebrar sesión este sociedad , en el local de el calle del Tigre , número 173 , con el objeto de ocupar él de el incorporación de el Ancashin...</td>\n",
       "      <td>sociedad hijo ANCASH tarde hoy celebrar sesión sociedad local calle Tigre número objeto ocupar él incorporación Ancashinos llamar discutir proyecto reglamento</td>\n",
       "    </tr>\n",
       "    <tr>\n",
       "      <th>2</th>\n",
       "      <td>1906-09-15</td>\n",
       "      <td>SOCIEDAD HIJOS DE ANCASH - El día de mañana domingo, a las 2 de la tarde, celebrará sesión esta sociedad en el local de la calle del Tigre número 173.</td>\n",
       "      <td>sociedad hijo DE ANCASH - el día de mañana domingo , a el 2 de el tarde , celebrar sesión este sociedad en el local de el calle del Tigre número 173 .</td>\n",
       "      <td>sociedad hijo ANCASH día mañana domingo tarde celebrar sesión sociedad local calle Tigre número</td>\n",
       "    </tr>\n",
       "    <tr>\n",
       "      <th>3</th>\n",
       "      <td>1906-10-14</td>\n",
       "      <td>SOCIEDAD HIJOS DE ANCASH - Hoy a las 3 de la tarde celebrará esta sociedad sesión de junta general, en la casa número 137 de la calle del Tigre.</td>\n",
       "      <td>sociedad hijo DE ANCASH - hoy a el 3 de el tarde celebrar este sociedad sesión de junta general , en el casa número 137 de el calle del Tigre .</td>\n",
       "      <td>sociedad hijo ANCASH hoy tarde celebrar sociedad sesión junta general casa número calle Tigre</td>\n",
       "    </tr>\n",
       "    <tr>\n",
       "      <th>4</th>\n",
       "      <td>1906-10-28</td>\n",
       "      <td>HIJOS DE ANCASH - Mañana a las dos de la tarde, celebrará sesión de junta general la sociedad de este nombre, en el local de la calle del Tigre número 173.</td>\n",
       "      <td>hijo DE ANCASH - mañana a el dos de el tarde , celebrar sesión de junta general el sociedad de este nombre , en el local de el calle del Tigre número 173 .</td>\n",
       "      <td>hijo ANCASH mañana tarde celebrar sesión junta general sociedad nombre local calle Tigre número</td>\n",
       "    </tr>\n",
       "  </tbody>\n",
       "</table>\n",
       "</div>"
      ],
      "text/plain": [
       "       Fecha  \\\n",
       "0 1906-08-02   \n",
       "1 1906-08-12   \n",
       "2 1906-09-15   \n",
       "3 1906-10-14   \n",
       "4 1906-10-28   \n",
       "\n",
       "                                                                                                                                                                                                     Texto  \\\n",
       "0  SOCIEDAD HIJOS DE ANCASH - Anteanoche tuvo lugar una reunión de estudiantes ancashinos residentes en esta capital, con el objeto de propender al desarrollo de los intereses del departamento de Anc...   \n",
       "1  SOCIEDAD HIJOS DE ANCASH - A las dos de la tarde de hoy celebrará sesión esta sociedad, en el local de la calle del Tigre, número 173, con el objeto de ocuparse de la incorporación de los Ancashin...   \n",
       "2                                                   SOCIEDAD HIJOS DE ANCASH - El día de mañana domingo, a las 2 de la tarde, celebrará sesión esta sociedad en el local de la calle del Tigre número 173.   \n",
       "3                                                         SOCIEDAD HIJOS DE ANCASH - Hoy a las 3 de la tarde celebrará esta sociedad sesión de junta general, en la casa número 137 de la calle del Tigre.   \n",
       "4                                              HIJOS DE ANCASH - Mañana a las dos de la tarde, celebrará sesión de junta general la sociedad de este nombre, en el local de la calle del Tigre número 173.   \n",
       "\n",
       "                                                                                                                                                                                                    lemmas  \\\n",
       "0  sociedad hijo DE ANCASH - Anteanoche tener lugar uno reunión de estudiante ancashino residente en este capital , con el objeto de propender al desarrollo de el interés del departamento de Ancash ,...   \n",
       "1  sociedad hijo DE ANCASH - A el dos de el tarde de hoy celebrar sesión este sociedad , en el local de el calle del Tigre , número 173 , con el objeto de ocupar él de el incorporación de el Ancashin...   \n",
       "2                                                   sociedad hijo DE ANCASH - el día de mañana domingo , a el 2 de el tarde , celebrar sesión este sociedad en el local de el calle del Tigre número 173 .   \n",
       "3                                                          sociedad hijo DE ANCASH - hoy a el 3 de el tarde celebrar este sociedad sesión de junta general , en el casa número 137 de el calle del Tigre .   \n",
       "4                                              hijo DE ANCASH - mañana a el dos de el tarde , celebrar sesión de junta general el sociedad de este nombre , en el local de el calle del Tigre número 173 .   \n",
       "\n",
       "                                                                                                                                                                                                       nav  \n",
       "0  sociedad hijo ANCASH Anteanoche tener lugar reunión estudiante ancashino residente capital objeto propender desarrollo interés departamento Ancash excluir absoluto propaganda índole político inici...  \n",
       "1                                           sociedad hijo ANCASH tarde hoy celebrar sesión sociedad local calle Tigre número objeto ocupar él incorporación Ancashinos llamar discutir proyecto reglamento  \n",
       "2                                                                                                          sociedad hijo ANCASH día mañana domingo tarde celebrar sesión sociedad local calle Tigre número  \n",
       "3                                                                                                            sociedad hijo ANCASH hoy tarde celebrar sociedad sesión junta general casa número calle Tigre  \n",
       "4                                                                                                          hijo ANCASH mañana tarde celebrar sesión junta general sociedad nombre local calle Tigre número  "
      ]
     },
     "execution_count": 43,
     "metadata": {},
     "output_type": "execute_result"
    }
   ],
   "source": [
    "anuncios.head()"
   ]
  },
  {
   "cell_type": "code",
   "execution_count": 44,
   "metadata": {},
   "outputs": [
    {
     "data": {
      "text/plain": [
       "<Compressed Sparse Row sparse matrix of dtype 'float64'\n",
       "\twith 151243 stored elements and shape (6575, 10646)>"
      ]
     },
     "execution_count": 44,
     "metadata": {},
     "output_type": "execute_result"
    }
   ],
   "source": [
    "tfidf = TfidfVectorizer(stop_words=list(stopwords))\n",
    "dt = tfidf.fit_transform(anuncios[\"lemmas\"].map(str))\n",
    "dt"
   ]
  },
  {
   "cell_type": "code",
   "execution_count": 45,
   "metadata": {},
   "outputs": [
    {
     "data": {
      "text/plain": [
       "<Compressed Sparse Row sparse matrix of dtype 'float64'\n",
       "\twith 143675 stored elements and shape (6575, 10083)>"
      ]
     },
     "execution_count": 45,
     "metadata": {},
     "output_type": "execute_result"
    }
   ],
   "source": [
    "tfidf = TfidfVectorizer(stop_words=list(stopwords))\n",
    "dt = tfidf.fit_transform(anuncios[\"nav\"].map(str))\n",
    "dt"
   ]
  },
  {
   "cell_type": "markdown",
   "metadata": {},
   "source": [
    "## Finding document most similar to made-up document"
   ]
  },
  {
   "cell_type": "code",
   "execution_count": 46,
   "metadata": {},
   "outputs": [
    {
     "data": {
      "text/plain": [
       "<Compressed Sparse Row sparse matrix of dtype 'float64'\n",
       "\twith 146602 stored elements and shape (6575, 6005)>"
      ]
     },
     "execution_count": 46,
     "metadata": {},
     "output_type": "execute_result"
    }
   ],
   "source": [
    "tfidf = TfidfVectorizer(stop_words=list(stopwords), min_df=2)\n",
    "dt = tfidf.fit_transform(anuncios[\"lemmas\"].map(str))\n",
    "dt"
   ]
  },
  {
   "cell_type": "code",
   "execution_count": 47,
   "metadata": {},
   "outputs": [],
   "source": [
    "made_up = tfidf.transform([\"la reunión de los artesanos terminó con baile y borrachera\"])"
   ]
  },
  {
   "cell_type": "code",
   "execution_count": 48,
   "metadata": {},
   "outputs": [],
   "source": [
    "sim = cosine_similarity(made_up, dt)"
   ]
  },
  {
   "cell_type": "code",
   "execution_count": 49,
   "metadata": {},
   "outputs": [
    {
     "data": {
      "text/plain": [
       "array([0.0999328, 0.       , 0.       , ..., 0.       , 0.       ,\n",
       "       0.       ], shape=(6575,))"
      ]
     },
     "execution_count": 49,
     "metadata": {},
     "output_type": "execute_result"
    }
   ],
   "source": [
    "sim[0]"
   ]
  },
  {
   "cell_type": "code",
   "execution_count": 50,
   "metadata": {},
   "outputs": [
    {
     "data": {
      "application/vnd.microsoft.datawrangler.viewer.v0+json": {
       "columns": [
        {
         "name": "index",
         "rawType": "int64",
         "type": "integer"
        },
        {
         "name": "Fecha",
         "rawType": "datetime64[ns]",
         "type": "datetime"
        },
        {
         "name": "lemmas",
         "rawType": "object",
         "type": "string"
        }
       ],
       "ref": "044d9af0-dbdc-4dbf-b0a1-7780f8e31d8e",
       "rows": [
        [
         "224",
         "1915-06-26 00:00:00",
         "hijo DE HUARI - él citar a todo el hijo de el provincia de Huari residente en este capital a el reunión preliminar con el objeto de tomar acuerdo para el fundación de su centro . lugar de reunión : Confederación de Artesanos , calle del Tigre a el 8 y medio p.m ."
        ],
        [
         "5378",
         "1930-12-08 00:00:00",
         "CENTRO CHANCAY - él citar a el socio y comprovinciano a el reunión de junta general que tener lugar el día de hoy , a el 9 de el noche , en el local de el Confederación de Artesanos , calle Tigre 173 ."
        ],
        [
         "5398",
         "1930-12-12 00:00:00",
         "CENTRO CHANCAY - cita a el socio y comprovinciano a el reunión de junta general que él realizar hoy , a el 9 de el noche , en el local de el Confederación de Artesanos , calle Tigre 173 ."
        ],
        [
         "326",
         "1917-06-10 00:00:00",
         "asociacion hijo DE ORCOTUNA - De orden del presidente , él citar a el socio que componer este sociedad a el reunión que celebrar hoy a el 8 p.m . en el local de el Confederación de Artesanos , calle del Tigre ."
        ],
        [
         "5949",
         "1931-05-28 00:00:00",
         "CENTRO CULTURAL CHINCHA - De el secretaría de este centro él yo comunicar que hoy haber uno reunión en el Confederación de Artesanos , con el fin de tratar asunto de el provincia ."
        ]
       ],
       "shape": {
        "columns": 2,
        "rows": 5
       }
      },
      "text/html": [
       "<div>\n",
       "<style scoped>\n",
       "    .dataframe tbody tr th:only-of-type {\n",
       "        vertical-align: middle;\n",
       "    }\n",
       "\n",
       "    .dataframe tbody tr th {\n",
       "        vertical-align: top;\n",
       "    }\n",
       "\n",
       "    .dataframe thead th {\n",
       "        text-align: right;\n",
       "    }\n",
       "</style>\n",
       "<table border=\"1\" class=\"dataframe tex2jax_ignore\">\n",
       "  <thead>\n",
       "    <tr style=\"text-align: right;\">\n",
       "      <th></th>\n",
       "      <th>Fecha</th>\n",
       "      <th>lemmas</th>\n",
       "    </tr>\n",
       "  </thead>\n",
       "  <tbody>\n",
       "    <tr>\n",
       "      <th>224</th>\n",
       "      <td>1915-06-26</td>\n",
       "      <td>hijo DE HUARI - él citar a todo el hijo de el provincia de Huari residente en este capital a el reunión preliminar con el objeto de tomar acuerdo para el fundación de su centro . lugar de reunión ...</td>\n",
       "    </tr>\n",
       "    <tr>\n",
       "      <th>5378</th>\n",
       "      <td>1930-12-08</td>\n",
       "      <td>CENTRO CHANCAY - él citar a el socio y comprovinciano a el reunión de junta general que tener lugar el día de hoy , a el 9 de el noche , en el local de el Confederación de Artesanos , calle Tigre ...</td>\n",
       "    </tr>\n",
       "    <tr>\n",
       "      <th>5398</th>\n",
       "      <td>1930-12-12</td>\n",
       "      <td>CENTRO CHANCAY - cita a el socio y comprovinciano a el reunión de junta general que él realizar hoy , a el 9 de el noche , en el local de el Confederación de Artesanos , calle Tigre 173 .</td>\n",
       "    </tr>\n",
       "    <tr>\n",
       "      <th>326</th>\n",
       "      <td>1917-06-10</td>\n",
       "      <td>asociacion hijo DE ORCOTUNA - De orden del presidente , él citar a el socio que componer este sociedad a el reunión que celebrar hoy a el 8 p.m . en el local de el Confederación de Artesanos , cal...</td>\n",
       "    </tr>\n",
       "    <tr>\n",
       "      <th>5949</th>\n",
       "      <td>1931-05-28</td>\n",
       "      <td>CENTRO CULTURAL CHINCHA - De el secretaría de este centro él yo comunicar que hoy haber uno reunión en el Confederación de Artesanos , con el fin de tratar asunto de el provincia .</td>\n",
       "    </tr>\n",
       "  </tbody>\n",
       "</table>\n",
       "</div>"
      ],
      "text/plain": [
       "          Fecha  \\\n",
       "224  1915-06-26   \n",
       "5378 1930-12-08   \n",
       "5398 1930-12-12   \n",
       "326  1917-06-10   \n",
       "5949 1931-05-28   \n",
       "\n",
       "                                                                                                                                                                                                       lemmas  \n",
       "224   hijo DE HUARI - él citar a todo el hijo de el provincia de Huari residente en este capital a el reunión preliminar con el objeto de tomar acuerdo para el fundación de su centro . lugar de reunión ...  \n",
       "5378  CENTRO CHANCAY - él citar a el socio y comprovinciano a el reunión de junta general que tener lugar el día de hoy , a el 9 de el noche , en el local de el Confederación de Artesanos , calle Tigre ...  \n",
       "5398              CENTRO CHANCAY - cita a el socio y comprovinciano a el reunión de junta general que él realizar hoy , a el 9 de el noche , en el local de el Confederación de Artesanos , calle Tigre 173 .  \n",
       "326   asociacion hijo DE ORCOTUNA - De orden del presidente , él citar a el socio que componer este sociedad a el reunión que celebrar hoy a el 8 p.m . en el local de el Confederación de Artesanos , cal...  \n",
       "5949                     CENTRO CULTURAL CHINCHA - De el secretaría de este centro él yo comunicar que hoy haber uno reunión en el Confederación de Artesanos , con el fin de tratar asunto de el provincia .  "
      ]
     },
     "execution_count": 50,
     "metadata": {},
     "output_type": "execute_result"
    }
   ],
   "source": [
    "anuncios.iloc[np.argsort(sim[0])[::-1][0:5]][[\"Fecha\", \"lemmas\"]]"
   ]
  },
  {
   "cell_type": "markdown",
   "metadata": {},
   "source": [
    "# Finding the most similar documents"
   ]
  },
  {
   "cell_type": "markdown",
   "metadata": {},
   "source": [
    "### Timing Cosine Similarity"
   ]
  },
  {
   "cell_type": "code",
   "execution_count": 51,
   "metadata": {},
   "outputs": [
    {
     "name": "stdout",
     "output_type": "stream",
     "text": [
      "CPU times: user 683 ms, sys: 43 ms, total: 726 ms\n",
      "Wall time: 725 ms\n"
     ]
    },
    {
     "data": {
      "text/plain": [
       "<Compressed Sparse Row sparse matrix of dtype 'float64'\n",
       "\twith 35205994 stored elements and shape (6575, 6575)>"
      ]
     },
     "execution_count": 51,
     "metadata": {},
     "output_type": "execute_result"
    }
   ],
   "source": [
    "%%time\n",
    "cosine_similarity(dt[0:10000], dt[0:10000], dense_output=False)"
   ]
  },
  {
   "cell_type": "code",
   "execution_count": 52,
   "metadata": {},
   "outputs": [
    {
     "name": "stdout",
     "output_type": "stream",
     "text": [
      "26784138\n",
      "CPU times: user 877 ms, sys: 392 ms, total: 1.27 s\n",
      "Wall time: 1.43 s\n"
     ]
    }
   ],
   "source": [
    "%%time\n",
    "r = cosine_similarity(dt[0:10000], dt[0:10000])\n",
    "r[r > 0.9999] = 0\n",
    "print(np.argmax(r))"
   ]
  },
  {
   "cell_type": "code",
   "execution_count": 53,
   "metadata": {},
   "outputs": [
    {
     "name": "stdout",
     "output_type": "stream",
     "text": [
      "26784138\n",
      "CPU times: user 7.09 s, sys: 4.49 s, total: 11.6 s\n",
      "Wall time: 11.6 s\n"
     ]
    }
   ],
   "source": [
    "%%time\n",
    "r = cosine_similarity(dt[0:10000], dt[0:10000], dense_output=False)\n",
    "r[r > 0.9999] = 0\n",
    "print(np.argmax(r))"
   ]
  },
  {
   "cell_type": "markdown",
   "metadata": {},
   "source": [
    "### Timing Dot-Product"
   ]
  },
  {
   "cell_type": "code",
   "execution_count": 54,
   "metadata": {},
   "outputs": [
    {
     "name": "stdout",
     "output_type": "stream",
     "text": [
      "26784138\n",
      "CPU times: user 6.55 s, sys: 3.61 s, total: 10.2 s\n",
      "Wall time: 10.2 s\n"
     ]
    }
   ],
   "source": [
    "%%time\n",
    "r = np.dot(dt[0:10000], np.transpose(dt[0:10000]))\n",
    "r[r > 0.9999] = 0\n",
    "print(np.argmax(r))"
   ]
  },
  {
   "cell_type": "markdown",
   "metadata": {},
   "source": [
    "## Batch"
   ]
  },
  {
   "cell_type": "code",
   "execution_count": 55,
   "metadata": {
    "scrolled": true
   },
   "outputs": [
    {
     "name": "stdout",
     "output_type": "stream",
     "text": [
      "0 0\n",
      "CPU times: user 7.07 s, sys: 3.84 s, total: 10.9 s\n",
      "Wall time: 10.9 s\n"
     ]
    }
   ],
   "source": [
    "%%time\n",
    "batch = 10000\n",
    "max_sim = 0.0\n",
    "max_a = None\n",
    "max_b = None\n",
    "for a in range(0, dt.shape[0], batch):\n",
    "    for b in range(0, a+batch, batch):\n",
    "        print(a, b)\n",
    "        #r = np.dot(dt[a:a+batch], np.transpose(dt[b:b+batch]))\n",
    "        r = cosine_similarity(dt[a:a+batch], dt[b:b+batch], dense_output=False)\n",
    "        # eliminate identical vectors\n",
    "        # by setting their similarity to np.nan which gets sorted out\n",
    "        r[r > 0.9999] = 0\n",
    "        sim = r.max()\n",
    "        if sim > max_sim:\n",
    "            # argmax returns a single value which we have to \n",
    "            # map to the two dimensions            \n",
    "            (max_a, max_b) = np.unravel_index(np.argmax(r), r.shape)\n",
    "            # adjust offsets in corpus (this is a submatrix)\n",
    "            max_a += a\n",
    "            max_b += b\n",
    "            max_sim = sim"
   ]
  },
  {
   "cell_type": "code",
   "execution_count": 56,
   "metadata": {},
   "outputs": [
    {
     "name": "stdout",
     "output_type": "stream",
     "text": [
      "4073 4163\n"
     ]
    }
   ],
   "source": [
    "print(max_a, max_b)"
   ]
  },
  {
   "cell_type": "code",
   "execution_count": 57,
   "metadata": {},
   "outputs": [
    {
     "name": "stdout",
     "output_type": "stream",
     "text": [
      "0.9935822512545226\n"
     ]
    }
   ],
   "source": [
    "print(max_sim)"
   ]
  },
  {
   "cell_type": "code",
   "execution_count": 58,
   "metadata": {},
   "outputs": [
    {
     "data": {
      "application/vnd.microsoft.datawrangler.viewer.v0+json": {
       "columns": [
        {
         "name": "index",
         "rawType": "int64",
         "type": "integer"
        },
        {
         "name": "Fecha",
         "rawType": "datetime64[ns]",
         "type": "datetime"
        },
        {
         "name": "Texto",
         "rawType": "object",
         "type": "string"
        }
       ],
       "ref": "60c2fd50-889c-4f8a-a4b3-f5e08252c4ac",
       "rows": [
        [
         "4073",
         "1927-12-17 00:00:00",
         "SOCIEDAD CIRCULO MACATINO - Sesionará hoy a las 8 p.m. en el local de la Quinta Saux número 42."
        ],
        [
         "4163",
         "1928-03-10 00:00:00",
         "SOCIEDAD CIRCULO MACATINO - Sesionará hoy a las 8 p.m. en la Quinta Saux número 42."
        ]
       ],
       "shape": {
        "columns": 2,
        "rows": 2
       }
      },
      "text/html": [
       "<div>\n",
       "<style scoped>\n",
       "    .dataframe tbody tr th:only-of-type {\n",
       "        vertical-align: middle;\n",
       "    }\n",
       "\n",
       "    .dataframe tbody tr th {\n",
       "        vertical-align: top;\n",
       "    }\n",
       "\n",
       "    .dataframe thead th {\n",
       "        text-align: right;\n",
       "    }\n",
       "</style>\n",
       "<table border=\"1\" class=\"dataframe tex2jax_ignore\">\n",
       "  <thead>\n",
       "    <tr style=\"text-align: right;\">\n",
       "      <th></th>\n",
       "      <th>Fecha</th>\n",
       "      <th>Texto</th>\n",
       "    </tr>\n",
       "  </thead>\n",
       "  <tbody>\n",
       "    <tr>\n",
       "      <th>4073</th>\n",
       "      <td>1927-12-17</td>\n",
       "      <td>SOCIEDAD CIRCULO MACATINO - Sesionará hoy a las 8 p.m. en el local de la Quinta Saux número 42.</td>\n",
       "    </tr>\n",
       "    <tr>\n",
       "      <th>4163</th>\n",
       "      <td>1928-03-10</td>\n",
       "      <td>SOCIEDAD CIRCULO MACATINO - Sesionará hoy a las 8 p.m. en la Quinta Saux número 42.</td>\n",
       "    </tr>\n",
       "  </tbody>\n",
       "</table>\n",
       "</div>"
      ],
      "text/plain": [
       "          Fecha  \\\n",
       "4073 1927-12-17   \n",
       "4163 1928-03-10   \n",
       "\n",
       "                                                                                                Texto  \n",
       "4073  SOCIEDAD CIRCULO MACATINO - Sesionará hoy a las 8 p.m. en el local de la Quinta Saux número 42.  \n",
       "4163  SOCIEDAD CIRCULO MACATINO - Sesionará hoy a las 8 p.m. en la Quinta Saux número 42.              "
      ]
     },
     "execution_count": 58,
     "metadata": {},
     "output_type": "execute_result"
    }
   ],
   "source": [
    "pd.set_option('max_colwidth', 1)\n",
    "anuncios.iloc[[max_a, max_b]][[\"Fecha\", \"Texto\"]]"
   ]
  },
  {
   "cell_type": "markdown",
   "metadata": {},
   "source": [
    "# Finding most related words"
   ]
  },
  {
   "cell_type": "code",
   "execution_count": 59,
   "metadata": {},
   "outputs": [],
   "source": [
    "tfidf_word = TfidfVectorizer(stop_words=list(stopwords), min_df=1000)\n",
    "dt_word = tfidf_word.fit_transform(anuncios[\"Texto\"])"
   ]
  },
  {
   "cell_type": "code",
   "execution_count": 60,
   "metadata": {},
   "outputs": [],
   "source": [
    "r = cosine_similarity(dt_word.T, dt_word.T)\n",
    "np.fill_diagonal(r, 0)"
   ]
  },
  {
   "cell_type": "code",
   "execution_count": 61,
   "metadata": {},
   "outputs": [
    {
     "name": "stdout",
     "output_type": "stream",
     "text": [
      "\"junta\" related to \"general\"\n",
      "\"sesión\" related to \"junta\"\n",
      "\"sesión\" related to \"general\"\n",
      "\"sesión\" related to \"institución\"\n",
      "\"local\" related to \"costumbre\"\n",
      "\"local\" related to \"general\"\n",
      "\"sesión\" related to \"local\"\n",
      "\"institución\" related to \"general\"\n",
      "\"junta\" related to \"institución\"\n",
      "\"local\" related to \"junta\"\n",
      "\"número\" related to \"calle\"\n",
      "\"local\" related to \"centro\"\n",
      "\"local\" related to \"calle\"\n",
      "\"local\" related to \"institución\"\n",
      "\"local\" related to \"hijos\"\n",
      "\"sesión\" related to \"centro\"\n",
      "\"general\" related to \"cita\"\n",
      "\"sociedad\" related to \"hijos\"\n",
      "\"general\" related to \"centro\"\n",
      "\"número\" related to \"local\"\n"
     ]
    }
   ],
   "source": [
    "voc = tfidf_word.get_feature_names_out()\n",
    "size = r.shape[0] # quadratic\n",
    "for index in np.argsort(r.flatten())[::-1][0:40]:\n",
    "    a = int(index/size)\n",
    "    b = index%size\n",
    "    if a > b:  # avoid repetitions\n",
    "        print('\"%s\" related to \"%s\"' % (voc[a], voc[b]))"
   ]
  },
  {
   "cell_type": "code",
   "execution_count": null,
   "metadata": {},
   "outputs": [],
   "source": []
  }
 ],
 "metadata": {
  "kernelspec": {
   "display_name": "lima-andina (3.10.13)",
   "language": "python",
   "name": "python3"
  },
  "language_info": {
   "codemirror_mode": {
    "name": "ipython",
    "version": 3
   },
   "file_extension": ".py",
   "mimetype": "text/x-python",
   "name": "python",
   "nbconvert_exporter": "python",
   "pygments_lexer": "ipython3",
   "version": "3.10.13"
  },
  "toc": {
   "base_numbering": 1,
   "nav_menu": {},
   "number_sections": true,
   "sideBar": true,
   "skip_h1_title": false,
   "title_cell": "Table of Contents",
   "title_sidebar": "Contents",
   "toc_cell": false,
   "toc_position": {},
   "toc_section_display": true,
   "toc_window_display": false
  },
  "varInspector": {
   "cols": {
    "lenName": 16,
    "lenType": 16,
    "lenVar": 40
   },
   "kernels_config": {
    "python": {
     "delete_cmd_postfix": "",
     "delete_cmd_prefix": "del ",
     "library": "var_list.py",
     "varRefreshCmd": "print(var_dic_list())"
    },
    "r": {
     "delete_cmd_postfix": ") ",
     "delete_cmd_prefix": "rm(",
     "library": "var_list.r",
     "varRefreshCmd": "cat(var_dic_list()) "
    }
   },
   "types_to_exclude": [
    "module",
    "function",
    "builtin_function_or_method",
    "instance",
    "_Feature"
   ],
   "window_display": false
  }
 },
 "nbformat": 4,
 "nbformat_minor": 2
}
